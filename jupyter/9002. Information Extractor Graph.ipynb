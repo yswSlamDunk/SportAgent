{
 "cells": [
  {
   "cell_type": "code",
   "execution_count": 1,
   "metadata": {},
   "outputs": [
    {
     "data": {
      "text/plain": [
       "True"
      ]
     },
     "execution_count": 1,
     "metadata": {},
     "output_type": "execute_result"
    }
   ],
   "source": [
    "from langchain_openai import ChatOpenAI\n",
    "from langchain_core.prompts import PromptTemplate\n",
    "from langchain_core.runnables import chain\n",
    "\n",
    "from dotenv import load_dotenv\n",
    "load_dotenv()"
   ]
  },
  {
   "cell_type": "markdown",
   "metadata": {
    "vscode": {
     "languageId": "plaintext"
    }
   },
   "source": [
    "# Summarization Node\n",
    "  - 모든 프롬프트는 yaml 파일로 저장하고, langchain hub에 저장\n",
    "  - Document의 크기에 따라 적합 요약 방법을 적용할 수 있는 Node\n",
    "  - Document의 content 크기가 2개 이상인 경우, map-reduce, map-refine 방식을 적용하여 평가함\n",
    "\n",
    "### 요약 기법 \n",
    "1. Stuff: 전체 문서 한번에 요약\n",
    "2. Map-Reduce: 분할 요약 후 일괄 병합\n",
    "3. Map-Refine: 분할 요약 후 점진적인 병합\n",
    "\n",
    "# Summarization 평가\n",
    "  - heading을 기준으로 parsing을 진행하기 때문에, document내 element 갯수의 편차가 존재\n",
    "  - element의 갯수와 글자 수를 기준으로 적절한 요약 기법을 선택함으로써 비용의 효율화 및 향상된 요약 품질을 유도\n",
    "\n",
    "### 평가지표\n",
    "1. 명확성 (Clarity)\n",
    "  - 요약문이 명확하고 이해하기 쉬운가?\n",
    "  - 모호한 표현이나 불분명한 문장이 없는가?\n",
    "  - 문장 구조가 논리적인가?\n",
    "\n",
    "2. 간결성 (Conciseness)\n",
    "  - 불필요한 반복이나 중복된 정보가 없는가?\n",
    "  - 핵심 내용만 간단명료하게 전달하는가?\n",
    "  - 문장이 경제적으로 구성되었는가?\n",
    "\n",
    "3. 완전성 (Completeness)\n",
    "  - 원문의 주요 내용이 모두 포함되었는가?\n",
    "  - 중요한 정보가 누락되지 않았는가?\n",
    "  - 핵심 아이디어가 모두 반영되었는가?\n",
    "\n",
    "4. 일관성 (Consistency)\n",
    "  - 요약이 원문의 맥락과 일치하는가?\n",
    "  - 원문의 의도나 논조가 왜곡되지 않았는가?\n",
    "  - 내용 간의 논리적 연결이 자연스러운가?\n",
    "\n",
    "5. 유용성 (Usefulness)\n",
    "  - 요약이 실제로 유용한 정보를 제공하는가?\n",
    "  - 독자가 원문을 이해하는 데 도움이 되는가?\n",
    "  - 실용적인 가치가 있는가?"
   ]
  },
  {
   "cell_type": "code",
   "execution_count": 2,
   "metadata": {},
   "outputs": [],
   "source": [
    "import os\n",
    "import json\n",
    "\n",
    "with open('../data/document/역도/documentParseGraph_state.json', 'r') as f:\n",
    "    state = json.load(f)"
   ]
  },
  {
   "cell_type": "markdown",
   "metadata": {},
   "source": [
    "### 평가 DataFrame 생성"
   ]
  },
  {
   "cell_type": "code",
   "execution_count": 3,
   "metadata": {},
   "outputs": [],
   "source": [
    "import pandas as pd\n",
    "\n",
    "# result_df = pd.DataFrame(columns=['document_index', 'num_paragraph', 'num_letter','summarization_method', 'cost', 'response', 'summary', 'clarity', 'brevity', 'completeness', 'consistency', 'usefulness'])\n",
    "# result_df.to_csv('../data/experiment/summarization_result.csv', index=False)\n",
    "\n",
    "result_df = pd.read_csv('../data/experiment/summarization_result.csv')\n"
   ]
  },
  {
   "cell_type": "code",
   "execution_count": 4,
   "metadata": {},
   "outputs": [
    {
     "data": {
      "text/html": [
       "<div>\n",
       "<style scoped>\n",
       "    .dataframe tbody tr th:only-of-type {\n",
       "        vertical-align: middle;\n",
       "    }\n",
       "\n",
       "    .dataframe tbody tr th {\n",
       "        vertical-align: top;\n",
       "    }\n",
       "\n",
       "    .dataframe thead th {\n",
       "        text-align: right;\n",
       "    }\n",
       "</style>\n",
       "<table border=\"1\" class=\"dataframe\">\n",
       "  <thead>\n",
       "    <tr style=\"text-align: right;\">\n",
       "      <th></th>\n",
       "      <th>document_index</th>\n",
       "      <th>num_paragraph</th>\n",
       "      <th>num_letter</th>\n",
       "      <th>summarization_method</th>\n",
       "      <th>cost</th>\n",
       "      <th>response</th>\n",
       "      <th>summary</th>\n",
       "      <th>clarity</th>\n",
       "      <th>brevity</th>\n",
       "      <th>completeness</th>\n",
       "      <th>consistency</th>\n",
       "      <th>usefulness</th>\n",
       "    </tr>\n",
       "  </thead>\n",
       "  <tbody>\n",
       "  </tbody>\n",
       "</table>\n",
       "</div>"
      ],
      "text/plain": [
       "Empty DataFrame\n",
       "Columns: [document_index, num_paragraph, num_letter, summarization_method, cost, response, summary, clarity, brevity, completeness, consistency, usefulness]\n",
       "Index: []"
      ]
     },
     "execution_count": 4,
     "metadata": {},
     "output_type": "execute_result"
    }
   ],
   "source": [
    "result_df.head()"
   ]
  },
  {
   "cell_type": "code",
   "execution_count": 40,
   "metadata": {},
   "outputs": [],
   "source": [
    "def preprocess_sentence(text):\n",
    "    text = re.sub(r'[\\n\\r]+', ' ', text)\n",
    "    text = re.sub(r' {2,}', ' ', text)\n",
    "    \n",
    "    return text"
   ]
  },
  {
   "cell_type": "code",
   "execution_count": 45,
   "metadata": {},
   "outputs": [],
   "source": [
    "# map-reduce, refine, chain of density 방식 적용 대상 선정\n",
    "\n",
    "experiment_docs = [doc for doc in state['documents'] if len([content for content in doc['content'] if content['category'] == 'paragraph']) > 1]"
   ]
  },
  {
   "cell_type": "code",
   "execution_count": 52,
   "metadata": {},
   "outputs": [
    {
     "data": {
      "text/plain": [
       "'Ⅴ.역도 훈련프로그램 구성 및 지도안\\n1. 훈련프로그램의 구성 원리\\n나. 훈련량의 설정 및 훈련프로그램의 실례\\n1) 총부하량(volume of load)총부하량이란 연습기간, 또는 한정 된 주기 즉, 주, 월, 년, 단위에서 들어 올린 총중량을 의미하며, 대개 킬로그램(kg)이나, 톤(ton)으로 표시한다. 예) 100kg의 중량을 가지고 Snatch를 3세트 3회 반복하면, 100×3×3=900kg 120kg의 중량을 가지고 Snatch Pull을 5세트 5회 반복하면, 120×5×5=3000kg 150kg의 중량을 가지고 Back Squat을 10세트 10회 반복하면, 150×10×10=15000kg 이때의 총부하량은 900+3000+15000=18900kg(18.9t) 이 된다는 것이다. 이 수치는 선수가 행한 총 운동량을 나타내는 것이며, 총부하량은 체계적인 훈련기간을 단위 로 하여 주 단위, 월 단위, 년 단위로 산출하는 것이 보통이며, 훈련계획을 수립하 기 위하여 자신의 최대 총부하량을 기준으로 하여 낮은 수준의 부하량(60% 이하 ), 중간 수준의 부하량(60-80%), 높은 수준의 부하량(80% 이상)을 설정한다. 총부하량은 선수의 운동경력이나, 체급, 체력에 따라 설정범위도 달라야 하며, 최 근연구에 의하면 총부하량을 급격히 증가하면, 오히려 경기력에 부정적인 효과를 초 래 할 수도 있으며, 이는 훈련량의 한계를 시사해 주는 것으로 무리한 운동량의 설 정은 운동 상해를 야기 시키며, 선수생활을 단축시키는 결과를 초래하기 때문이다. 특히, 중요한 것은 원상회복과 훈련의 효과는 훈련량의 증가뿐만 아니라 훈련이 나 시합후의 회복과도 밀접한 관계가 있음이 밝혀졌으며, 훈련의 초기 단계에서 미 처 회복되지 않은 상태에서 훈련효과에 대한 분석을 한 결과 감소현상이 나타났다 고 한다. 즉, 과도한 훈련량, 특히 과도한 중량을 가지고 무리한 훈련을 할 경우에 는 역학적, 동역학적 매개 변수에 대한 정확한 기술을 구사할 수 없게 되어 운동수 행능력의 향상을 꾀하기 어렵게 되므로, 선수에게 무리가 다르지 않는 범위에서 과 부하의 원리, 점진성의 원리, 반복의 원리를 적용하여 운동량을 설정하는 것이 최 대의 경기력을 위한 필수적인 프로그램 구성에 반영해야 한다. 가) 월간 총부하량(monthly volume of Load) 대부분의 역도선수들은 시합 1개월 전에는 개인의 차는 있지만 100-150톤에 이 르며, 일반 선수들의 경우, 시합에 대비하여 200-300톤의 과도한 부하량을 가지고 훈련하는 경우가 종종 있는데 이는 바람직하지 않다. 나) 주간 총부하량(weekly volume of Load) 주간 총부하량은 이미 설정된 총부하량에 대하여 주별로 부하량을 달리 설정해 야 하며, 시합 4주전부터 시합 날까지 월간 총부하량을 고려하여 제한된 부하량의 범위 내에서 설정해야 한다. 이에 대한 3가지 안을 제시하면 다음과 같다. 이상과 같은 안에서 부하량은 선수의 제반 조건을 고려하여 주별로 2-4% 가감하 여 계획을 수립할 수 있으며, 만약 2-3개월 정도 시합이 없을 경우에는 부하량을 어떻게 분배해야 할지 고민하게 된다. 만약 부하량을 감소시킬 때에는 반드시 고려해야 할 것은 15-18% 이상의 부하량 감소는 기록 유지 및 향상에 영향을 미치기 때문에 항상 염두에 두어야 한다. 1주 주기의 주간 총부하량은 지도자나 선수에 있어서 훈련의 효과를 기대할 수 있는 기본단위로서 주간 총부하량은 시합기, 훈련기, 이완기에 따라 달리 분배해야 하며, 가장 이상적인 방법으로 분배하는 것이다. 1주간의 부하량을 100%로 잡았을 때, 우수선수의 경우 첫날에 주간 부하량의 54%를 수행하고, 다음날에 30%, 셋째날에 16%를 수행한다고 한다. 하지만 꼭 이렇 게 하는 것이 완벽하다고는 말 할 수 없으며, 우수선수들의 평균적인 것이지 이것 을 초보자에게 적용시키는 것은 무리가 있다는 것을 알아야 한다. 주간부하량을 분 배할 때 반드시 고려해야 할 것은 큰 부하 뒤에는 작은 부하를 주어 우리 신체의 작업능력을 회복시키는 일이 중요하다는 것이다.'"
      ]
     },
     "execution_count": 52,
     "metadata": {},
     "output_type": "execute_result"
    }
   ],
   "source": [
    "tmp = experiment_docs[2]\n",
    "tmp_heading = tmp['meta']['heading']\n",
    "\n",
    "tmp_heading = '\\n'.join([heading for heading in tmp_heading.values() if heading != None])\n",
    "tmp_content = preprocess_sentence(' '.join([content['text'] for content in tmp['content'] if content['category'] == 'paragraph']))\n",
    "tmp_origin = tmp_heading + tmp_content\n",
    "\n",
    "tmp_origin"
   ]
  },
  {
   "cell_type": "code",
   "execution_count": 53,
   "metadata": {},
   "outputs": [],
   "source": [
    "tmp_summary = \"총부하량은 주, 월, 년 등 일정 기간 동안 운동 중에 들어 올린 총중량을 의미하며, 예를 들어 Snatch, Snatch Pull, Back Squat와 같이 각 운동별 세트와 반복 수를 곱하여 계산된 중량의 합계로 산출된다. 선수들은 자신의 최대 총부하량을 기준으로 60% 이하의 저부하, 60~80%의 중간부하, 80% 이상의 고부하로 나누어 훈련 프로그램에 반영하는데, 이는 급격한 부하량 증가는 경기력 저하와 부상의 위험을 초래할 수 있기 때문이다. 또한, 훈련의 효과는 단순히 부하량 증가뿐만 아니라 훈련 후 회복과도 밀접하게 관련되어 있어, 큰 부하 후에는 반드시 회복을 위한 적절한 작은 부하를 배치해야 한다. 월간 총부하량은 elite 선수들의 경우 시합 1개월 전 보통 100-150톤 정도로 설정되지만, 일반 선수들이 200-300톤의 과도한 부하로 훈련하는 것은 바람직하지 않다. 주간 총부하량은 이미 정해진 총부하량을 고려하여 시합 4주 전부터 시합 당일까지 주별로 조절하며, 우수 선수들의 경우 주간 부하량을 첫날 54%, 다음날 30%, 셋째날 16%로 분배하는 사례가 있지만, 이는 초보자에게 그대로 적용하기에는 무리가 있다. 이러한 체계적인 부하량 설정과 회복 고려는 훈련 효과를 극대화하고 선수의 경기력 향상에 필수적인 요소로 작용한다.\""
   ]
  },
  {
   "cell_type": "code",
   "execution_count": null,
   "metadata": {},
   "outputs": [],
   "source": []
  },
  {
   "cell_type": "markdown",
   "metadata": {},
   "source": [
    "## 문장 전처리\n",
    "* stuff 방식과 map-reduce, refine 방식의 전처리 방식이 다름\n",
    "  * struff 방식의 경우, 불용어 제거하고 element의 text를 하나로 합침\n",
    "  * map-reduce, refine 방식의 경우, 불용어 제거하고 element를 분리"
   ]
  },
  {
   "cell_type": "code",
   "execution_count": 32,
   "metadata": {},
   "outputs": [],
   "source": [
    "# stuff 방식\n",
    "import re\n",
    "\n",
    "def stuff_preprocess_document(document):\n",
    "    num_paragraph = 0\n",
    "\n",
    "    text = \"\"\n",
    "    for heading in document['meta']['heading'].values():\n",
    "        if heading != None:\n",
    "            text += f\"{heading}\\n\"\n",
    "\n",
    "    for doc in document['content']:\n",
    "        if doc['category'] == 'paragraph':\n",
    "            num_paragraph += 1\n",
    "            tmp_text = preprocess_sentence(doc['text'])\n",
    "            text += f\" {tmp_text}\"\n",
    "\n",
    "\n",
    "    meta = {'num_letter' : len(text), 'num_paragraph': num_paragraph, 'document_index': document['meta']['index']}\n",
    "    return text, meta\n",
    "\n",
    "\n",
    "text_list = []\n",
    "meta_list = []\n",
    "\n",
    "for doc in state['documents']:\n",
    "    text, meta = stuff_preprocess_document(doc)\n",
    "    text_list.append(text)\n",
    "    meta_list.append(meta)\n",
    "\n",
    "stuff_dataset = (text, meta)\n"
   ]
  },
  {
   "cell_type": "code",
   "execution_count": 53,
   "metadata": {},
   "outputs": [],
   "source": [
    "# map 전처리 \n",
    "\n",
    "def map_preprocessing(document):\n",
    "    text = [preprocess_sentence(content['text']) for content in document['content'] if content['category'] == 'paragraph']\n",
    "    meta = {'num_letter' : len(''.join(text)), 'num_paragraph': len(text), 'document_index': document['meta']['index']}\n",
    "    \n",
    "    tmp = [element for element in document['meta']['heading'].values() if element != None]\n",
    "    heading = \" \".join(tmp if tmp != [] else '')\n",
    "    \n",
    "    return text, meta, heading\n",
    "\n",
    "text_list, meta_list, heading_list = [], [], []\n",
    "\n",
    "for doc in experiment_docs:\n",
    "    text, meta, heading = map_preprocessing(doc)\n",
    "    text_list.append(text)\n",
    "    meta_list.append(meta)\n",
    "    heading_list.append(heading)\n",
    "\n",
    "map_dataset = (text_list, meta_list, heading_list)"
   ]
  },
  {
   "cell_type": "markdown",
   "metadata": {},
   "source": [
    "### stuff"
   ]
  },
  {
   "cell_type": "code",
   "execution_count": null,
   "metadata": {},
   "outputs": [
    {
     "name": "stdout",
     "output_type": "stream",
     "text": [
      "Ⅴ.역도 훈련프로그램 구성 및 지도안\n",
      "1. 훈련프로그램의 구성 원리\n",
      " 역도 훈련프로그램의 구성은 트레이닝의 원리에 입각하여 안전하고 효과적인 훈 련 프로그램을 설계하여 선수 개개인의 특수성, 과부하, 점진성의 일반적인 훈련원 칙에 근거한다.\n",
      "content='- 역도 훈련프로그램은 트레이닝의 원리에 기반하여 구성됨.\\n- 안전하고 효과적인 훈련 프로그램 설계.\\n- 선수 개개인의 특수성, 과부하, 점진성에 따른 일반적인 훈련 원칙 적용.' additional_kwargs={'refusal': None} response_metadata={'token_usage': {'completion_tokens': 60, 'prompt_tokens': 168, 'total_tokens': 228, 'completion_tokens_details': {'accepted_prediction_tokens': 0, 'audio_tokens': 0, 'reasoning_tokens': 0, 'rejected_prediction_tokens': 0}, 'prompt_tokens_details': {'audio_tokens': 0, 'cached_tokens': 0}}, 'model_name': 'gpt-4o-mini-2024-07-18', 'system_fingerprint': 'fp_bd83329f63', 'finish_reason': 'stop', 'logprobs': None} id='run-645398fa-6b84-4cb9-b6eb-8e2487d35ea3-0' usage_metadata={'input_tokens': 168, 'output_tokens': 60, 'total_tokens': 228, 'input_token_details': {'audio': 0, 'cache_read': 0}, 'output_token_details': {'audio': 0, 'reasoning': 0}}\n"
     ]
    }
   ],
   "source": [
    "stuff_prompt = \"\"\"\n",
    "# INSTRUCTIONS\n",
    "Please summarize the sentence according to the following REQUEST.\n",
    "\n",
    "REQUEST:\n",
    "1. Summarize the main points in bullet points in KOREAN.\n",
    "2. Translate the summary into KOREAN if it is written in ENGLISH.\n",
    "3. DO NOT translate any technical terms.\n",
    "4. DO NOT include any unnecessary information.\n",
    "\n",
    "# DOCUMENT:\n",
    "{document}\n",
    "\n",
    "# SUMMARY:\"\n",
    "\"\"\"\n",
    "\n",
    "llm = ChatOpenAI(\n",
    "    model_name='gpt-4o-mini',\n",
    "    temperature=0.0\n",
    ")\n",
    "\n",
    "stuff_prompt = PromptTemplate.from_template(stuff_prompt)\n",
    "stuff_chain = stuff_prompt | llm\n",
    "result = stuff_chain.invoke(text_list[0])"
   ]
  },
  {
   "cell_type": "code",
   "execution_count": 53,
   "metadata": {},
   "outputs": [
    {
     "name": "stdout",
     "output_type": "stream",
     "text": [
      "- 역도 훈련프로그램은 트레이닝의 원리에 기반하여 구성됨.\n",
      "- 안전하고 효과적인 훈련 프로그램 설계.\n",
      "- 선수 개개인의 특수성, 과부하, 점진성에 따른 일반적인 훈련 원칙 적용.\n",
      "228\n"
     ]
    }
   ],
   "source": [
    "print(result.content)\n",
    "print(result.response_metadata['token_usage']['total_tokens'])"
   ]
  },
  {
   "cell_type": "code",
   "execution_count": null,
   "metadata": {},
   "outputs": [],
   "source": [
    "def stuff_chain(chain, text, meta):\n",
    "    tmp = chain.invoke(text)\n",
    "    summary = tmp.content\n",
    "    cost = tmp.response_metadata['token_usage']['total_tokens']\n",
    "\n",
    "    return pd.DataFrame({'document_index': [meta['document_index']], 'num_paragraph': [meta['num_paragraph']], 'num_letter': [meta['num_letter']], 'summarization_method': ['stuff'], 'cost': [cost], 'response': [result.content], 'summary': [summary], 'clarity': [0], 'brevity': [0], 'completeness': [0], 'consistency': [0], 'usefulness': [0]})"
   ]
  },
  {
   "cell_type": "code",
   "execution_count": null,
   "metadata": {},
   "outputs": [],
   "source": [
    "for text, meta in zip(text_list, meta_list):\n",
    "    result = stuff_chain(stuff_chain, text, meta)\n",
    "    result_df = pd.concat([result_df, result], ignore_index=True)"
   ]
  },
  {
   "cell_type": "code",
   "execution_count": null,
   "metadata": {},
   "outputs": [],
   "source": [
    "result_df = pd.concat([result_df, result], ignore_index=True)"
   ]
  },
  {
   "cell_type": "markdown",
   "metadata": {},
   "source": [
    "### map"
   ]
  },
  {
   "cell_type": "code",
   "execution_count": 9,
   "metadata": {},
   "outputs": [],
   "source": [
    "map_prompt = \"\"\"\n",
    "# INSTRUCTIONS:\n",
    "You are a professional main thesis extractor.\n",
    "Your task is to extract main thesis from given documents. \n",
    "Answer should be written in {language}.\n",
    "\n",
    "# DOCUMENTS:\n",
    "{heading}\n",
    "{documents}\n",
    "\n",
    "# FORMAT: \n",
    "- thesis 1\n",
    "- thesis 2\n",
    "- ...\n",
    "\n",
    "Write as many sentences as there are documents.\n",
    "If there are more than 10 documents, write only 10 sentences.\n",
    "\n",
    "# Answer:\n",
    "\"\"\"\n",
    "\n",
    "llm = ChatOpenAI(\n",
    "    model_name='gpt-4o-mini',\n",
    "    temperature=0.0\n",
    ")\n",
    "\n",
    "map_prompt = PromptTemplate.from_template(map_prompt)\n",
    "map_chain = map_prompt | llm"
   ]
  },
  {
   "cell_type": "code",
   "execution_count": 57,
   "metadata": {},
   "outputs": [
    {
     "data": {
      "text/plain": [
       "'Ⅴ.역도 훈련프로그램 구성 및 지도안 1. 훈련프로그램의 구성 원리 나. 훈련량의 설정 및 훈련프로그램의 실례 1) 총부하량(volume of load)'"
      ]
     },
     "execution_count": 57,
     "metadata": {},
     "output_type": "execute_result"
    }
   ],
   "source": [
    "map_dataset[2][2]"
   ]
  },
  {
   "cell_type": "code",
   "execution_count": 61,
   "metadata": {},
   "outputs": [],
   "source": [
    "# 다음에 text_list로 되어 있는 부분을 고치는 것\n",
    "# map의 경우, refine과 reduce 절차가 따라오니, 해당 결과를 진행한 후에 result_dataframe에 저장해야 함.\n",
    "\n",
    "\n",
    "map_tmp_result = map_chain.invoke({'documents': map_dataset[0][2], 'language': 'KOREAN', 'heading': map_dataset[2][2]})"
   ]
  },
  {
   "cell_type": "code",
   "execution_count": 62,
   "metadata": {},
   "outputs": [],
   "source": [
    "map_tmp_result_content = map_tmp_result.content"
   ]
  },
  {
   "cell_type": "code",
   "execution_count": 63,
   "metadata": {},
   "outputs": [
    {
     "data": {
      "text/plain": [
       "'- 총부하량은 특정 기간 동안 들어 올린 총중량을 의미하며, 킬로그램이나 톤으로 표시된다.\\n- 훈련의 총부하량은 선수의 운동량을 나타내며, 주 단위, 월 단위, 년 단위로 산출된다.\\n- 총부하량은 선수의 운동경력, 체급, 체력에 따라 달라져야 하며, 급격한 증가가 경기력에 부정적인 영향을 미칠 수 있다.\\n- 과도한 운동량은 운동 상해를 초래하고 선수생활을 단축시킬 수 있다.\\n- 훈련량의 증가뿐만 아니라 회복과 훈련 효과의 관계도 중요하다.\\n- 선수는 과부하의 원리와 점진성의 원리를 적용하여 운동량을 설정해야 한다.\\n- 월간 총부하량은 시합 1개월 전 개인 차에 따라 100~150톤에 이를 수 있으며, 일반 선수는 200~300톤의 부하량으로 훈련하는 경우가 있다.\\n- 주간 총부하량은 시합 4주 전부터 시합 날까지 제한된 범위 내에서 설정해야 한다.\\n- 부하량 감소 시 15~18 이상의 감소는 기록 유지 및 향상에 영향을 미친다.\\n- 주간 총부하량은 훈련의 효과를 기대할 수 있는 기본 단위로, 훈련기와 이완기에 따라 달리 분배해야 한다.'"
      ]
     },
     "execution_count": 63,
     "metadata": {},
     "output_type": "execute_result"
    }
   ],
   "source": [
    "map_tmp_result_content"
   ]
  },
  {
   "cell_type": "code",
   "execution_count": 64,
   "metadata": {},
   "outputs": [
    {
     "name": "stdout",
     "output_type": "stream",
     "text": [
      "- 총부하량은 특정 기간 동안 들어 올린 총중량을 의미하며, 킬로그램이나 톤으로 표시된다.\n",
      "- 훈련의 총부하량은 선수의 운동량을 나타내며, 주 단위, 월 단위, 년 단위로 산출된다.\n",
      "- 총부하량은 선수의 운동경력, 체급, 체력에 따라 달라져야 하며, 급격한 증가가 경기력에 부정적인 영향을 미칠 수 있다.\n",
      "- 과도한 운동량은 운동 상해를 초래하고 선수생활을 단축시킬 수 있다.\n",
      "- 훈련량의 증가뿐만 아니라 회복과 훈련 효과의 관계도 중요하다.\n",
      "- 선수는 과부하의 원리와 점진성의 원리를 적용하여 운동량을 설정해야 한다.\n",
      "- 월간 총부하량은 시합 1개월 전 개인 차에 따라 100~150톤에 이를 수 있으며, 일반 선수는 200~300톤의 부하량으로 훈련하는 경우가 있다.\n",
      "- 주간 총부하량은 시합 4주 전부터 시합 날까지 제한된 범위 내에서 설정해야 한다.\n",
      "- 부하량 감소 시 15~18 이상의 감소는 기록 유지 및 향상에 영향을 미친다.\n",
      "- 주간 총부하량은 훈련의 효과를 기대할 수 있는 기본 단위로, 훈련기와 이완기에 따라 달리 분배해야 한다.\n"
     ]
    }
   ],
   "source": [
    "print(map_tmp_result_content)"
   ]
  },
  {
   "cell_type": "code",
   "execution_count": null,
   "metadata": {},
   "outputs": [],
   "source": []
  },
  {
   "cell_type": "markdown",
   "metadata": {},
   "source": [
    "## reduce"
   ]
  },
  {
   "cell_type": "code",
   "execution_count": 58,
   "metadata": {},
   "outputs": [],
   "source": [
    "reduce_prompt = \"\"\"\n",
    "# INSTRUCTIONS:\n",
    "You are a professional summarizer. \n",
    "You are given a list of summaries of documents and you are asked to create a single summary of the documents.\n",
    "\n",
    "1. Extract main points from a list of summaries of ducuments.\n",
    "2. Make final summaries in bullet points format.\n",
    "3. Answer should be written in {language}.\n",
    "\n",
    "# CONTEXT:\n",
    "{summaries}\n",
    "\n",
    "# SUMMARY:\n",
    "\"\"\""
   ]
  },
  {
   "cell_type": "code",
   "execution_count": 59,
   "metadata": {},
   "outputs": [],
   "source": [
    "llm = ChatOpenAI(\n",
    "    model_name='gpt-4o-mini',\n",
    "    temperature=0.0\n",
    ")\n",
    "\n",
    "reduce_prompt = PromptTemplate.from_template(reduce_prompt)\n",
    "reduce_chain = reduce_prompt | llm"
   ]
  },
  {
   "cell_type": "code",
   "execution_count": null,
   "metadata": {},
   "outputs": [],
   "source": [
    "# reduce_result = reduce_chain.invoke({'language': 'KOREAN', 'summaries': map_tmp_result_content})"
   ]
  },
  {
   "cell_type": "code",
   "execution_count": 17,
   "metadata": {},
   "outputs": [
    {
     "data": {
      "text/plain": [
       "AIMessage(content='- 총부하량은 특정 기간 동안 들어 올린 총중량을 킬로그램이나 톤으로 표시하며, 선수의 운동량을 나타낸다.\\n- 훈련의 총부하량은 주 단위, 월 단위, 년 단위로 산출되며, 선수의 운동경력, 체급, 체력에 따라 달라져야 한다.\\n- 급격한 부하량 증가는 경기력에 부정적인 영향을 미칠 수 있으며, 과도한 운동량은 운동 상해를 초래하고 선수생활을 단축시킬 수 있다.\\n- 훈련량 증가와 회복의 관계가 중요하며, 초기 단계에서의 회복이 이루어지지 않으면 훈련 효과가 감소할 수 있다.\\n- 적절한 부하량 설정은 최대의 경기력을 위한 필수적인 프로그램 구성에 반영되어야 한다.\\n- 월간 총부하량은 시합 1개월 전에는 100-150톤에 이르며, 일반 선수들은 200-300톤의 과도한 부하량으로 훈련하는 경우가 많다.\\n- 주간 총부하량은 시합 4주 전부터 시합 날까지 제한된 부하량 범위 내에서 설정해야 하며, 훈련의 효과를 기대할 수 있는 기본 단위로 다르게 분배해야 한다.\\n- 부하량을 감소시킬 때에는 15-18 이상의 감소가 기록 유지 및 향상에 영향을 미친다는 점을 항상 염두에 두어야 한다.', additional_kwargs={'refusal': None}, response_metadata={'token_usage': {'completion_tokens': 334, 'prompt_tokens': 450, 'total_tokens': 784, 'completion_tokens_details': {'accepted_prediction_tokens': 0, 'audio_tokens': 0, 'reasoning_tokens': 0, 'rejected_prediction_tokens': 0}, 'prompt_tokens_details': {'audio_tokens': 0, 'cached_tokens': 0}}, 'model_name': 'gpt-4o-mini-2024-07-18', 'system_fingerprint': 'fp_bd83329f63', 'finish_reason': 'stop', 'logprobs': None}, id='run-c63569de-5109-4669-ade0-fef692a3c5bf-0', usage_metadata={'input_tokens': 450, 'output_tokens': 334, 'total_tokens': 784, 'input_token_details': {'audio': 0, 'cache_read': 0}, 'output_token_details': {'audio': 0, 'reasoning': 0}})"
      ]
     },
     "execution_count": 17,
     "metadata": {},
     "output_type": "execute_result"
    }
   ],
   "source": [
    "reduce_result"
   ]
  },
  {
   "cell_type": "code",
   "execution_count": 27,
   "metadata": {},
   "outputs": [
    {
     "name": "stdout",
     "output_type": "stream",
     "text": [
      "- 총부하량은 특정 기간 동안 들어 올린 총중량을 의미하며, 킬로그램이나 톤으로 표시된다.\n",
      "- 훈련의 총부하량은 선수의 운동량을 나타내며, 주 단위, 월 단위, 년 단위로 산출된다.\n",
      "- 총부하량은 선수의 운동경력, 체급, 체력에 따라 달라져야 하며, 급격한 증가가 경기력에 부정적인 영향을 미칠 수 있다.\n",
      "- 과도한 운동량은 운동 상해를 초래하고 선수생활을 단축시킬 수 있다.\n",
      "- 훈련량의 증가뿐만 아니라 회복과의 관계도 중요하며, 초기 단계에서의 회복이 이루어지지 않으면 훈련 효과가 감소할 수 있다.\n",
      "- 선수에게 적절한 부하량 설정은 최대의 경기력을 위한 필수적인 프로그램 구성에 반영되어야 한다.\n",
      "- 월간 총부하량은 시합 1개월 전에는 100-150톤에 이르며, 일반 선수들은 200-300톤의 과도한 부하량으로 훈련하는 경우가 많다.\n",
      "- 주간 총부하량은 시합 4주 전부터 시합 날까지 제한된 부하량 범위 내에서 설정해야 한다.\n",
      "- 주간 총부하량은 훈련의 효과를 기대할 수 있는 기본 단위로, 시합기, 훈련기, 이완기에 따라 달리 분배해야 한다.\n",
      "- 부하량을 감소시킬 때에는 15-18 이상의 감소가 기록 유지 및 향상에 영향을 미친다는 점을 항상 염두에 두어야 한다.\n"
     ]
    }
   ],
   "source": [
    "print(map_tmp_result_content)"
   ]
  },
  {
   "cell_type": "code",
   "execution_count": 25,
   "metadata": {},
   "outputs": [
    {
     "name": "stdout",
     "output_type": "stream",
     "text": [
      "- 총부하량은 특정 기간 동안 들어 올린 총중량을 킬로그램이나 톤으로 표시하며, 선수의 운동량을 나타낸다.\n",
      "- 훈련의 총부하량은 주 단위, 월 단위, 년 단위로 산출되며, 선수의 운동경력, 체급, 체력에 따라 달라져야 한다.\n",
      "- 급격한 부하량 증가는 경기력에 부정적인 영향을 미칠 수 있으며, 과도한 운동량은 운동 상해를 초래하고 선수생활을 단축시킬 수 있다.\n",
      "- 훈련량 증가와 회복의 관계가 중요하며, 초기 단계에서의 회복이 이루어지지 않으면 훈련 효과가 감소할 수 있다.\n",
      "- 적절한 부하량 설정은 최대의 경기력을 위한 필수적인 프로그램 구성에 반영되어야 한다.\n",
      "- 월간 총부하량은 시합 1개월 전에는 100-150톤에 이르며, 일반 선수들은 200-300톤의 과도한 부하량으로 훈련하는 경우가 많다.\n",
      "- 주간 총부하량은 시합 4주 전부터 시합 날까지 제한된 부하량 범위 내에서 설정해야 하며, 훈련의 효과를 기대할 수 있는 기본 단위로 다르게 분배해야 한다.\n",
      "- 부하량을 감소시킬 때에는 15-18 이상의 감소가 기록 유지 및 향상에 영향을 미친다는 점을 항상 염두에 두어야 한다.\n"
     ]
    }
   ],
   "source": [
    "print(reduce_result.content)"
   ]
  },
  {
   "cell_type": "markdown",
   "metadata": {},
   "source": [
    "## refine"
   ]
  },
  {
   "cell_type": "code",
   "execution_count": 65,
   "metadata": {},
   "outputs": [],
   "source": [
    "refine_prompt = \"\"\"\n",
    "# INSTRUCTIONS:\n",
    "You are a expert summarizer.\n",
    "Your hob is to produce a final summary.\n",
    "We have provided an existing summary up to a certain point\n",
    "\n",
    "We have the opportunity to refine the existing summary(only if needed) with some more context below.\n",
    "\n",
    "# CURRENT SUMMARY:: \n",
    "{summaries}\n",
    "\n",
    "Given the new context, refine the original summary in {language}.\n",
    "\n",
    "# SUMMARY:\n",
    "\"\"\""
   ]
  },
  {
   "cell_type": "code",
   "execution_count": 66,
   "metadata": {},
   "outputs": [],
   "source": [
    "llm = ChatOpenAI(\n",
    "    model_name='gpt-4o-mini',\n",
    "    temperature=0.0\n",
    ")\n",
    "refine_prompt = PromptTemplate.from_template(refine_prompt)\n",
    "refine_chain = refine_prompt | llm"
   ]
  },
  {
   "cell_type": "code",
   "execution_count": 67,
   "metadata": {},
   "outputs": [],
   "source": [
    "# refine_result = refine_chain.invoke({'summaries': map_tmp_result_content, 'language': 'KOREAN'})"
   ]
  },
  {
   "cell_type": "code",
   "execution_count": 75,
   "metadata": {},
   "outputs": [
    {
     "name": "stdout",
     "output_type": "stream",
     "text": [
      "- 총부하량은 특정 기간 동안 들어 올린 총중량을 의미하며, 킬로그램이나 톤으로 표시된다.\n",
      "- 훈련의 총부하량은 선수의 운동량을 나타내며, 주 단위, 월 단위, 년 단위로 산출된다.\n",
      "- 총부하량은 선수의 운동경력, 체급, 체력에 따라 달라져야 하며, 급격한 증가는 경기력에 부정적인 영향을 미칠 수 있다.\n",
      "- 과도한 운동량은 운동 상해를 초래하고 선수생활을 단축시킬 수 있다.\n",
      "- 훈련량의 증가뿐만 아니라 회복과 훈련 효과의 관계도 중요하다.\n",
      "- 선수는 과부하의 원리와 점진성의 원리를 적용하여 운동량을 설정해야 한다.\n",
      "- 월간 총부하량은 시합 1개월 전 개인 차에 따라 100~150톤에 이를 수 있으며, 일반 선수는 200~300톤의 부하량으로 훈련하는 경우가 있다.\n",
      "- 주간 총부하량은 시합 4주 전부터 시합 날까지 제한된 범위 내에서 설정해야 하며, 훈련의 효과를 기대할 수 있는 기본 단위로, 훈련기와 이완기에 따라 달리 분배해야 한다.\n",
      "- 부하량 감소 시 15~18% 이상의 감소는 기록 유지 및 향상에 영향을 미친다.\n"
     ]
    }
   ],
   "source": [
    "print(refine_result.content)"
   ]
  },
  {
   "cell_type": "markdown",
   "metadata": {},
   "source": [
    "# 평가 과정"
   ]
  },
  {
   "cell_type": "code",
   "execution_count": 25,
   "metadata": {},
   "outputs": [],
   "source": [
    "evaluation_prompt = \"\"\"\n",
    "# INSTRUCTIONS\n",
    "You are tasked with evaluating the quality of a summary based on the original document. \n",
    "Please assess the summary according to the following criteria.\n",
    "\n",
    "# ORIGINAL DOCUMENT:\n",
    "{original_document}\n",
    "\n",
    "# SUMMARY:\n",
    "{summary}\n",
    "\n",
    "# EVALUATION CRITERIA:\n",
    "1. Clarity\n",
    "   - Is the summary easy to understand?\n",
    "   - Are there any ambiguous expressions?\n",
    "   - Is the sentence structure logical?\n",
    "   - Does the summary avoid complex jargon?\n",
    "   - Is the information presented in a straightforward manner?\n",
    "\n",
    "2. Conciseness\n",
    "   - Does the summary avoid unnecessary repetition?\n",
    "   - Is the information presented succinctly?\n",
    "   - Are there any redundant details?\n",
    "   - Does the summary focus on key points only?\n",
    "   - Is the summary free of superfluous information?\n",
    "\n",
    "3. Completeness\n",
    "   - Does the summary include all major points from the original document?\n",
    "   - Are any critical details missing?\n",
    "   - Does the summary reflect the main ideas of the original document?\n",
    "   - Is the summary comprehensive?\n",
    "   - Are all essential elements of the original document covered?\n",
    "\n",
    "4. Consistency\n",
    "   - Does the summary align with the context of the original document?\n",
    "   - Is the tone of the summary consistent with the original document?\n",
    "   - Are there any contradictions in the summary?\n",
    "   - Does the summary maintain a consistent style?\n",
    "   - Is the summary logically coherent?\n",
    "\n",
    "5. Usefulness\n",
    "   - Does the summary provide valuable information?\n",
    "   - Is the summary helpful for understanding the original document?\n",
    "   - Does the summary serve a practical purpose?\n",
    "   - Is the summary informative?\n",
    "   - Can the summary stand alone as a useful piece of information?\n",
    "\n",
    "# Format:\n",
    "{format}\n",
    "\"\"\""
   ]
  },
  {
   "cell_type": "code",
   "execution_count": 26,
   "metadata": {},
   "outputs": [
    {
     "data": {
      "text/plain": [
       "\"\\nPlease provide your evaluation for each criterion with 'yes' or 'no'.\\n{{\\n 'Clarity': [          ],\\n 'Conciseness':  [          ],\\n 'Completeness':  [          ],\\n 'Consistency': [          ],\\n 'Usefulness':  [          ]\\n}}\\n\""
      ]
     },
     "execution_count": 26,
     "metadata": {},
     "output_type": "execute_result"
    }
   ],
   "source": [
    "\"\"\"\n",
    "Please provide your evaluation for each criterion with 'yes' or 'no'.\n",
    "{{\n",
    " 'Clarity': [          ],\n",
    " 'Conciseness':  [          ],\n",
    " 'Completeness':  [          ],\n",
    " 'Consistency': [          ],\n",
    " 'Usefulness':  [          ]\n",
    "}}\n",
    "\"\"\""
   ]
  },
  {
   "cell_type": "code",
   "execution_count": 27,
   "metadata": {},
   "outputs": [],
   "source": [
    "from langchain_core.output_parsers import PydanticOutputParser\n",
    "from pydantic import BaseModel, Field\n",
    "from typing import List\n",
    "\n",
    "class CriterionResult(BaseModel):\n",
    "    clarity: List[bool] = Field(descrioption=\"evaluations for each criterion of Clarity with 'yes' or 'no'\")\n",
    "    conciseness: List[bool] = Field(descrioption=\"evaluations for each criterion of Conciseness with 'yes' or 'no'\")\n",
    "    completeness: List[bool] = Field(descrioption=\"evaluations for each criterion of Completeness with 'yes' or 'no'\")\n",
    "    consistency: List[bool] = Field(descrioption=\"evaluations for each criterion of Consistency with 'yes' or 'no'\")\n",
    "    usefulness: List[bool] = Field(descrioption=\"evaluations for each criterion of Usefulness with 'yes' or 'no'\")\n",
    "\n",
    "parser = PydanticOutputParser(pydantic_object=CriterionResult)"
   ]
  },
  {
   "cell_type": "code",
   "execution_count": 28,
   "metadata": {},
   "outputs": [
    {
     "data": {
      "text/plain": [
       "'The output should be formatted as a JSON instance that conforms to the JSON schema below.\\n\\nAs an example, for the schema {\"properties\": {\"foo\": {\"title\": \"Foo\", \"description\": \"a list of strings\", \"type\": \"array\", \"items\": {\"type\": \"string\"}}}, \"required\": [\"foo\"]}\\nthe object {\"foo\": [\"bar\", \"baz\"]} is a well-formatted instance of the schema. The object {\"properties\": {\"foo\": [\"bar\", \"baz\"]}} is not well-formatted.\\n\\nHere is the output schema:\\n```\\n{\"properties\": {\"clarity\": {\"descrioption\": \"evaluations for each criterion of Clarity with \\'yes\\' or \\'no\\'\", \"items\": {\"type\": \"boolean\"}, \"title\": \"Clarity\", \"type\": \"array\"}, \"conciseness\": {\"descrioption\": \"evaluations for each criterion of Conciseness with \\'yes\\' or \\'no\\'\", \"items\": {\"type\": \"boolean\"}, \"title\": \"Conciseness\", \"type\": \"array\"}, \"completeness\": {\"descrioption\": \"evaluations for each criterion of Completeness with \\'yes\\' or \\'no\\'\", \"items\": {\"type\": \"boolean\"}, \"title\": \"Completeness\", \"type\": \"array\"}, \"consistency\": {\"descrioption\": \"evaluations for each criterion of Consistency with \\'yes\\' or \\'no\\'\", \"items\": {\"type\": \"boolean\"}, \"title\": \"Consistency\", \"type\": \"array\"}, \"usefulness\": {\"descrioption\": \"evaluations for each criterion of Usefulness with \\'yes\\' or \\'no\\'\", \"items\": {\"type\": \"boolean\"}, \"title\": \"Usefulness\", \"type\": \"array\"}}, \"required\": [\"clarity\", \"conciseness\", \"completeness\", \"consistency\", \"usefulness\"]}\\n```'"
      ]
     },
     "execution_count": 28,
     "metadata": {},
     "output_type": "execute_result"
    }
   ],
   "source": [
    "parser.get_format_instructions()"
   ]
  },
  {
   "cell_type": "code",
   "execution_count": 29,
   "metadata": {},
   "outputs": [],
   "source": [
    "evaluation_prompt = PromptTemplate.from_template(evaluation_prompt)\n",
    "evaluation_prompt = evaluation_prompt.partial(format=parser.get_format_instructions())"
   ]
  },
  {
   "cell_type": "code",
   "execution_count": 30,
   "metadata": {},
   "outputs": [],
   "source": [
    "llm = ChatOpenAI(\n",
    "    model_name='gpt-4o-mini',\n",
    "    temperature=0.0\n",
    ")\n",
    "\n",
    "evaluation_chain = evaluation_prompt | llm"
   ]
  },
  {
   "cell_type": "code",
   "execution_count": 54,
   "metadata": {},
   "outputs": [],
   "source": [
    "evaluation = evaluation_chain.invoke({'original_document': tmp_origin, 'summary': tmp_summary})\n",
    "structured_output = parser.parse(evaluation.content)"
   ]
  },
  {
   "cell_type": "code",
   "execution_count": 62,
   "metadata": {},
   "outputs": [
    {
     "data": {
      "text/plain": [
       "CriterionResult(clarity=[True, False, True, True, True], conciseness=[True, True, True, True, True], completeness=[True, False, True, True, True], consistency=[True, True, True, True, True], usefulness=[True, True, True, True, True])"
      ]
     },
     "execution_count": 62,
     "metadata": {},
     "output_type": "execute_result"
    }
   ],
   "source": [
    "structured_output"
   ]
  },
  {
   "cell_type": "code",
   "execution_count": 63,
   "metadata": {},
   "outputs": [
    {
     "name": "stdout",
     "output_type": "stream",
     "text": [
      "[True, False, True, True, True]\n",
      "[True, True, True, True, True]\n",
      "[True, False, True, True, True]\n",
      "[True, True, True, True, True]\n",
      "[True, True, True, True, True]\n"
     ]
    }
   ],
   "source": [
    "print(structured_output.clarity)\n",
    "print(structured_output.conciseness)\n",
    "print(structured_output.completeness)\n",
    "print(structured_output.consistency)\n",
    "print(structured_output.usefulness)"
   ]
  },
  {
   "cell_type": "code",
   "execution_count": 56,
   "metadata": {},
   "outputs": [
    {
     "data": {
      "text/plain": [
       "2383"
      ]
     },
     "execution_count": 56,
     "metadata": {},
     "output_type": "execute_result"
    }
   ],
   "source": [
    "evaluation.response_metadata['token_usage']['total_tokens']"
   ]
  },
  {
   "cell_type": "markdown",
   "metadata": {},
   "source": [
    "# 잘못된 요약 생성"
   ]
  },
  {
   "cell_type": "code",
   "execution_count": null,
   "metadata": {},
   "outputs": [],
   "source": [
    "지금은 이걸 하자.\n",
    "이걸 한 후에, 실험을 위한 전체 로직을 수행하고, 결과를 반영하여, node를 만들자.\n",
    "다음에 이미지, 표에 대한 전처리 만들자.\n",
    "그걸로 전체 Document를 생성하자.\n",
    "생성한 결과를 기반으로, ragas를 활용하여 hyper parameter tuning을 진행하자.\n",
    "이렇게 하면, 되나??\n",
    "\n",
    "스포츠 코칭의 intent인가 그거 분류하도록 chatbot 설계해야 하는데???\n",
    "그거에 맞게 해야하는데.... 잘 모르겠네..."
   ]
  },
  {
   "cell_type": "code",
   "execution_count": 90,
   "metadata": {},
   "outputs": [],
   "source": [
    "wrong_prompt = \"\"\"\n",
    "- Your task is to create a summary that fails to meet certain evaluation criteria, and to identify which criteria are not satisfied.\n",
    "- This summary will be used to test another evaluation prompt that returns boolean (True/False) values for each criterion.\n",
    "\n",
    "# Task 1: \n",
    "- From the evaluation criteria listed below, select the items that the summary does not meet (i.e., those marked as False).\n",
    "- The number of selected items should be more than 2 for each criteria.\n",
    "- The items selected for each evaluation criterion must be chosen randomly.\n",
    "- ex) Clarity: [True, False, False, False, True] \n",
    "\n",
    "\n",
    "[EVALUATION CRITERIA]:\n",
    "1. Clarity\n",
    "   - Is the summary easy to understand?\n",
    "   - Are there any ambiguous expressions?   \n",
    "   - Is the sentence structure logical?\n",
    "   - Does the summary avoid complex jargon?\n",
    "   - Is the information presented in a straightforward manner?\n",
    "\n",
    "2. Conciseness\n",
    "   - Does the summary avoid unnecessary repetition?\n",
    "   - Is the information presented succinctly?\n",
    "   - Are there any redundant details?\n",
    "   - Does the summary focus on key points only?\n",
    "   - Is the summary free of superfluous information?\n",
    "\n",
    "3. Completeness\n",
    "   - Does the summary include all major points from the original document?\n",
    "   - Are any critical details missing?\n",
    "   - Does the summary reflect the main ideas of the original document?\n",
    "   - Is the summary comprehensive?\n",
    "   - Are all essential elements of the original document covered?\n",
    "\n",
    "4. Consistency\n",
    "   - Does the summary align with the context of the original document?\n",
    "   - Is the tone of the summary consistent with the original document?\n",
    "   - Are there any contradictions in the summary?\n",
    "   - Does the summary maintain a consistent style?\n",
    "   - Is the summary logically coherent?\n",
    "\n",
    "5. Usefulness\n",
    "   - Does the summary provide valuable information?\n",
    "   - Is the summary helpful for understanding the original document?\n",
    "   - Does the summary serve a practical purpose?\n",
    "   - Is the summary informative?\n",
    "   - Can the summary stand alone as a useful piece of information?\n",
    "---\n",
    "\n",
    "# Task 2: \n",
    "- summarize should be written in {language}.\n",
    "- Based on the result of {{selected_criteria}}, summarize the following original text:\n",
    "\n",
    "[ORIGIN TEXT]:\n",
    "{original_text}\n",
    "\n",
    "---\n",
    "# Format:\n",
    "   {format}\n",
    "\"\"\""
   ]
  },
  {
   "cell_type": "code",
   "execution_count": 91,
   "metadata": {},
   "outputs": [],
   "source": [
    "from pydantic import BaseModel, Field\n",
    "from typing import List\n",
    "from langchain_core.output_parsers import PydanticOutputParser\n",
    "\n",
    "class CriteriaAndSummary(BaseModel):\n",
    "    clarity: List[bool] = Field(description=\"result of clarity in {{selected_criteria}}\")\n",
    "    conciseness: List[bool] = Field(description=\"result of conciseness in {{selected_criteria}}'s\")\n",
    "    completeness: List[bool] = Field(description=\"result of ompleteness in {{selected_criteria}}'s\")\n",
    "    consistency: List[bool] = Field(description=\"result of consistency in {{selected_criteria}}'s\")\n",
    "    usefulness: List[bool] = Field(description=\"result of usefulness in {{selected_criteria}}'s\")\n",
    "    summary: str = Field(description=\"summary\")"
   ]
  },
  {
   "cell_type": "code",
   "execution_count": 92,
   "metadata": {},
   "outputs": [
    {
     "name": "stdout",
     "output_type": "stream",
     "text": [
      "The output should be formatted as a JSON instance that conforms to the JSON schema below.\n",
      "\n",
      "As an example, for the schema {\"properties\": {\"foo\": {\"title\": \"Foo\", \"description\": \"a list of strings\", \"type\": \"array\", \"items\": {\"type\": \"string\"}}}, \"required\": [\"foo\"]}\n",
      "the object {\"foo\": [\"bar\", \"baz\"]} is a well-formatted instance of the schema. The object {\"properties\": {\"foo\": [\"bar\", \"baz\"]}} is not well-formatted.\n",
      "\n",
      "Here is the output schema:\n",
      "```\n",
      "{\"properties\": {\"clarity\": {\"description\": \"result of clarity in {{selected_criteria}}\", \"items\": {\"type\": \"boolean\"}, \"title\": \"Clarity\", \"type\": \"array\"}, \"conciseness\": {\"description\": \"result of conciseness in {{selected_criteria}}'s\", \"items\": {\"type\": \"boolean\"}, \"title\": \"Conciseness\", \"type\": \"array\"}, \"completeness\": {\"description\": \"result of ompleteness in {{selected_criteria}}'s\", \"items\": {\"type\": \"boolean\"}, \"title\": \"Completeness\", \"type\": \"array\"}, \"consistency\": {\"description\": \"result of consistency in {{selected_criteria}}'s\", \"items\": {\"type\": \"boolean\"}, \"title\": \"Consistency\", \"type\": \"array\"}, \"usefulness\": {\"description\": \"result of usefulness in {{selected_criteria}}'s\", \"items\": {\"type\": \"boolean\"}, \"title\": \"Usefulness\", \"type\": \"array\"}, \"summary\": {\"description\": \"summary\", \"title\": \"Summary\", \"type\": \"string\"}}, \"required\": [\"clarity\", \"conciseness\", \"completeness\", \"consistency\", \"usefulness\", \"summary\"]}\n",
      "```\n"
     ]
    }
   ],
   "source": [
    "parser = PydanticOutputParser(pydantic_object=CriteriaAndSummary)\n",
    "print(parser.get_format_instructions())\n",
    "wrong_prompt = PromptTemplate.from_template(wrong_prompt)\n",
    "wrong_prompt = wrong_prompt.partial(format=parser.get_format_instructions())"
   ]
  },
  {
   "cell_type": "code",
   "execution_count": 93,
   "metadata": {},
   "outputs": [],
   "source": [
    "chain = wrong_prompt | llm\n",
    "result = chain.invoke({'original_text': tmp, 'language': 'KOREAN'})"
   ]
  },
  {
   "cell_type": "code",
   "execution_count": 96,
   "metadata": {},
   "outputs": [],
   "source": [
    "parsed = parser.parse(result.content)"
   ]
  },
  {
   "cell_type": "code",
   "execution_count": 101,
   "metadata": {},
   "outputs": [
    {
     "data": {
      "text/plain": [
       "True"
      ]
     },
     "execution_count": 101,
     "metadata": {},
     "output_type": "execute_result"
    }
   ],
   "source": [
    "parsed.clarity[0]\n",
    "\n",
    "\n"
   ]
  },
  {
   "cell_type": "code",
   "execution_count": null,
   "metadata": {},
   "outputs": [],
   "source": []
  }
 ],
 "metadata": {
  "kernelspec": {
   "display_name": "SportAgent",
   "language": "python",
   "name": "python3"
  },
  "language_info": {
   "codemirror_mode": {
    "name": "ipython",
    "version": 3
   },
   "file_extension": ".py",
   "mimetype": "text/x-python",
   "name": "python",
   "nbconvert_exporter": "python",
   "pygments_lexer": "ipython3",
   "version": "3.9.21"
  }
 },
 "nbformat": 4,
 "nbformat_minor": 2
}
