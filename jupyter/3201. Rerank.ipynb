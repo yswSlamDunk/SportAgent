{
 "cells": [
  {
   "cell_type": "markdown",
   "metadata": {},
   "source": [
    "# Reranker 최적화\n",
    "### 절차\n",
    "- 원본 데이터셋 기준으로, first-stage retriever 단계에서 최고 성능 조합을 고정하고 reranker 최적화 실험을 수행함\n",
    "- 고정된 retriever 파라미터:\n",
    "    - k: 20\n",
    "    - alpha: 40\n",
    "    - morphological_analyzer: bm25_kiwi_pos\n",
    "    - score_threshold: 0.1\n",
    "\n",
    "### 실험 대상 Reranker\n",
    "- Cohere Reranker (v3.5)\n",
    "    - https://docs.cohere.com/docs/rerank-overview\n",
    "- Flash Reranker: Lightweight pairwise reranker  \n",
    "    - GitHub: https://github.com/PrithivirajDamodaran/FlashRank\n",
    "- Jina Reranker: jina-reranker-v2-base-multilingual  \n",
    "    - HuggingFace: https://huggingface.co/jinaai/jina-reranker-v2-base-multilingual\n",
    "\n",
    "### 실험 결과 요약\n",
    "- Cohere Reranker가 가장 높은 성능(NDCG, MAP 기준)을 보였으며, top-k의 설정에 따라 recall에 차이가 관찰됨\n",
    "- 따라서 downstream task(예: LLM 응답 생성)의 목적에 맞게 rerank top-k를 조절할 필요 있음\n",
    "\n",
    "### 결론 및 제안\n",
    "- Cohere Reranker를 기준으로 응답 품질(LM 응답 정확도 등)을 평가하여 최적의 rerank top-k 설정을 결정하는 후속 실험이 필요"
   ]
  },
  {
   "cell_type": "code",
   "execution_count": 107,
   "metadata": {},
   "outputs": [],
   "source": [
    "import os\n",
    "import pandas as pd\n",
    "import numpy as np\n",
    "from itertools import product\n",
    "from tqdm import tqdm\n",
    "tqdm.pandas()\n",
    "\n",
    "\n",
    "import sys\n",
    "sys.path.append('../code/graphParser')\n",
    "sys.path.append('../code/ragas_custom')\n",
    "from rateLimit import handle_rate_limits\n",
    "from retrieve.sparse import BM25\n",
    "from retrieve.config import generate_retriever_configs\n",
    "from evaluation.retrieve import combine_hybrid_results, evaluate_metrics\n",
    "\n",
    "from langchain_core.documents import Document\n",
    "from langchain_openai import OpenAIEmbeddings\n",
    "from langchain_community.vectorstores import FAISS\n",
    "\n",
    "from ragas.testset.graph import KnowledgeGraph\n",
    "\n",
    "import cohere\n",
    "import requests\n",
    "from flashrank import Ranker, RerankRequest"
   ]
  },
  {
   "cell_type": "code",
   "execution_count": 5,
   "metadata": {},
   "outputs": [],
   "source": [
    "dataset = pd.read_csv('../data/rag/self_reflection.csv')\n",
    "dataset = dataset.iloc[:, :5]\n",
    "dataset['reference_contexts'] = dataset['reference_contexts'].apply(lambda x : eval(x))"
   ]
  },
  {
   "cell_type": "code",
   "execution_count": 6,
   "metadata": {},
   "outputs": [
    {
     "data": {
      "text/html": [
       "<div>\n",
       "<style scoped>\n",
       "    .dataframe tbody tr th:only-of-type {\n",
       "        vertical-align: middle;\n",
       "    }\n",
       "\n",
       "    .dataframe tbody tr th {\n",
       "        vertical-align: top;\n",
       "    }\n",
       "\n",
       "    .dataframe thead th {\n",
       "        text-align: right;\n",
       "    }\n",
       "</style>\n",
       "<table border=\"1\" class=\"dataframe\">\n",
       "  <thead>\n",
       "    <tr style=\"text-align: right;\">\n",
       "      <th></th>\n",
       "      <th>user_input</th>\n",
       "      <th>reference_contexts</th>\n",
       "      <th>reference</th>\n",
       "      <th>synthesizer_name</th>\n",
       "      <th>reference_contexts_section</th>\n",
       "    </tr>\n",
       "  </thead>\n",
       "  <tbody>\n",
       "    <tr>\n",
       "      <th>0</th>\n",
       "      <td>바벨 잡는 방법과 앉아받기 동작의 올바른 수행을 결합하여 최적의 리프팅 기술을 설명해줘.</td>\n",
       "      <td>[바벨을 잡는 방법에는 크게 오버그립(over grip), 언더그립(under gr...</td>\n",
       "      <td>바벨 잡는 방법에는 오버그립, 언더그립, 리버스그립, 훅그립이 있으며, 각각의 그립...</td>\n",
       "      <td>multi_hop_abstract_query_synthesizer</td>\n",
       "      <td>['Ⅲ. 역도경기 기술의 구조와 훈련법', 'Ⅲ. 역도경기 기술의 구조와 훈련법']</td>\n",
       "    </tr>\n",
       "    <tr>\n",
       "      <th>1</th>\n",
       "      <td>스포츠 심리학자들은 선수의 성과 향상에 어떤 역할을 하며, 그들의 개인 문제에 대한...</td>\n",
       "      <td>[성공적인 상\\n담 진행을 위해서 상담사는 내담자의 감정에 공감할 수 있어야 한다....</td>\n",
       "      <td>스포츠 심리학자들은 운동선수의 성과를 향상시키기 위해 여러 가지 역할을 수행합니다....</td>\n",
       "      <td>multi_hop_abstract_query_synthesizer</td>\n",
       "      <td>['II. 역도의 스포츠 과학적 원리', 'II. 역도의 스포츠 과학적 원리']</td>\n",
       "    </tr>\n",
       "  </tbody>\n",
       "</table>\n",
       "</div>"
      ],
      "text/plain": [
       "                                          user_input  \\\n",
       "0  바벨 잡는 방법과 앉아받기 동작의 올바른 수행을 결합하여 최적의 리프팅 기술을 설명해줘.   \n",
       "1  스포츠 심리학자들은 선수의 성과 향상에 어떤 역할을 하며, 그들의 개인 문제에 대한...   \n",
       "\n",
       "                                  reference_contexts  \\\n",
       "0  [바벨을 잡는 방법에는 크게 오버그립(over grip), 언더그립(under gr...   \n",
       "1  [성공적인 상\\n담 진행을 위해서 상담사는 내담자의 감정에 공감할 수 있어야 한다....   \n",
       "\n",
       "                                           reference  \\\n",
       "0  바벨 잡는 방법에는 오버그립, 언더그립, 리버스그립, 훅그립이 있으며, 각각의 그립...   \n",
       "1  스포츠 심리학자들은 운동선수의 성과를 향상시키기 위해 여러 가지 역할을 수행합니다....   \n",
       "\n",
       "                       synthesizer_name  \\\n",
       "0  multi_hop_abstract_query_synthesizer   \n",
       "1  multi_hop_abstract_query_synthesizer   \n",
       "\n",
       "                       reference_contexts_section  \n",
       "0  ['Ⅲ. 역도경기 기술의 구조와 훈련법', 'Ⅲ. 역도경기 기술의 구조와 훈련법']  \n",
       "1    ['II. 역도의 스포츠 과학적 원리', 'II. 역도의 스포츠 과학적 원리']  "
      ]
     },
     "execution_count": 6,
     "metadata": {},
     "output_type": "execute_result"
    }
   ],
   "source": [
    "dataset.head(2)"
   ]
  },
  {
   "cell_type": "code",
   "execution_count": 15,
   "metadata": {},
   "outputs": [],
   "source": [
    "configs = generate_retriever_configs(\n",
    "    k_values=[20], \n",
    "    analyzers=[\"bm25_kiwi_pos\"],\n",
    "    hybrid_alphas=[40],\n",
    "    fetch_k=[],\n",
    "    lambda_mult=[],\n",
    "    score_threshold=[0.1]\n",
    ")\n",
    "\n",
    "config = configs[2]"
   ]
  },
  {
   "cell_type": "code",
   "execution_count": 20,
   "metadata": {},
   "outputs": [],
   "source": [
    "kg = KnowledgeGraph.load('../data/rag/kg.json')\n",
    "\n",
    "documents = [Document(page_content=node.properties['page_content'],\n",
    "                      metadata=node.properties['document_metadata'])\n",
    "                       for node in kg.nodes]"
   ]
  },
  {
   "cell_type": "code",
   "execution_count": 25,
   "metadata": {},
   "outputs": [],
   "source": [
    "texts = [node.properties['page_content'] for node in kg.nodes]\n",
    "\n",
    "kiwi_pos = BM25(k=10, type='kiwi_pos')\n",
    "kiwi_pos.from_texts(texts)\n",
    "\n",
    "embeddings = OpenAIEmbeddings()\n",
    "db = FAISS.from_documents(documents, embeddings)"
   ]
  },
  {
   "cell_type": "code",
   "execution_count": 32,
   "metadata": {},
   "outputs": [
    {
     "name": "stderr",
     "output_type": "stream",
     "text": [
      "100%|██████████| 56/56 [00:28<00:00,  1.97it/s]\n",
      "100%|██████████| 56/56 [00:00<00:00, 609.58it/s]\n"
     ]
    }
   ],
   "source": [
    "dataset['precompute_dense'] = dataset['user_input'].progress_apply(lambda x: db.similarity_search_with_score(x, k=20))\n",
    "dataset['precompute_dense'] = dataset['precompute_dense'].apply(lambda x : [doc.__dict__['page_content'] for doc, score in x if score >= config['dense_params']['score_threshold']])\n",
    "dataset['precompute_sparse_bm25_kiwi_pos'] = dataset['user_input'].progress_apply(lambda x: kiwi_pos.search(x))\n",
    "dataset['retrieved_contexts'] = combine_hybrid_results(dataset['precompute_dense'], dataset['precompute_sparse_bm25_kiwi_pos'], config['alpha'], config['k'])\n",
    "dataset['need_retrieve'] = dataset.apply(lambda x : False if len(set(x['retrieved_contexts']).intersection(set(x['reference_contexts']))) == len(x['reference_contexts']) else True, axis=1)"
   ]
  },
  {
   "cell_type": "code",
   "execution_count": 42,
   "metadata": {},
   "outputs": [
    {
     "data": {
      "text/html": [
       "<div>\n",
       "<style scoped>\n",
       "    .dataframe tbody tr th:only-of-type {\n",
       "        vertical-align: middle;\n",
       "    }\n",
       "\n",
       "    .dataframe tbody tr th {\n",
       "        vertical-align: top;\n",
       "    }\n",
       "\n",
       "    .dataframe thead th {\n",
       "        text-align: right;\n",
       "    }\n",
       "</style>\n",
       "<table border=\"1\" class=\"dataframe\">\n",
       "  <thead>\n",
       "    <tr style=\"text-align: right;\">\n",
       "      <th></th>\n",
       "      <th>user_input</th>\n",
       "      <th>reference_contexts</th>\n",
       "      <th>reference</th>\n",
       "      <th>synthesizer_name</th>\n",
       "      <th>reference_contexts_section</th>\n",
       "      <th>precompute_dense</th>\n",
       "      <th>precompute_sparse_bm25_kiwi_pos</th>\n",
       "      <th>retrieved_contexts</th>\n",
       "      <th>need_retrieve</th>\n",
       "    </tr>\n",
       "  </thead>\n",
       "  <tbody>\n",
       "    <tr>\n",
       "      <th>0</th>\n",
       "      <td>바벨 잡는 방법과 앉아받기 동작의 올바른 수행을 결합하여 최적의 리프팅 기술을 설명해줘.</td>\n",
       "      <td>[바벨을 잡는 방법에는 크게 오버그립(over grip), 언더그립(under gr...</td>\n",
       "      <td>바벨 잡는 방법에는 오버그립, 언더그립, 리버스그립, 훅그립이 있으며, 각각의 그립...</td>\n",
       "      <td>multi_hop_abstract_query_synthesizer</td>\n",
       "      <td>['Ⅲ. 역도경기 기술의 구조와 훈련법', 'Ⅲ. 역도경기 기술의 구조와 훈련법']</td>\n",
       "      <td>[기본기 개념을 발달시키는 것은 필수적이며, 바를 들어 올리는 가장 중요한 요\\n소...</td>\n",
       "      <td>[순간적으로 무거운 물체를 들어 올리는 데에는 근력 외에도 강인한 정신력이 요구\\n...</td>\n",
       "      <td>[순간적으로 무거운 물체를 들어 올리는 데에는 근력 외에도 강인한 정신력이 요구\\n...</td>\n",
       "      <td>True</td>\n",
       "    </tr>\n",
       "    <tr>\n",
       "      <th>1</th>\n",
       "      <td>스포츠 심리학자들은 선수의 성과 향상에 어떤 역할을 하며, 그들의 개인 문제에 대한...</td>\n",
       "      <td>[성공적인 상\\n담 진행을 위해서 상담사는 내담자의 감정에 공감할 수 있어야 한다....</td>\n",
       "      <td>스포츠 심리학자들은 운동선수의 성과를 향상시키기 위해 여러 가지 역할을 수행합니다....</td>\n",
       "      <td>multi_hop_abstract_query_synthesizer</td>\n",
       "      <td>['II. 역도의 스포츠 과학적 원리', 'II. 역도의 스포츠 과학적 원리']</td>\n",
       "      <td>[스포츠심리학은 스포츠에 참여하는 개인과 개인의 행동을 과학적으로 탐구하고\\n그 지...</td>\n",
       "      <td>[스포츠심리학을 연구하고 스포츠심리학의 연구 성과를 스포츠 현장에 적용하는\\n스포츠...</td>\n",
       "      <td>[스포츠심리학을 연구하고 스포츠심리학의 연구 성과를 스포츠 현장에 적용하는\\n스포츠...</td>\n",
       "      <td>False</td>\n",
       "    </tr>\n",
       "  </tbody>\n",
       "</table>\n",
       "</div>"
      ],
      "text/plain": [
       "                                          user_input  \\\n",
       "0  바벨 잡는 방법과 앉아받기 동작의 올바른 수행을 결합하여 최적의 리프팅 기술을 설명해줘.   \n",
       "1  스포츠 심리학자들은 선수의 성과 향상에 어떤 역할을 하며, 그들의 개인 문제에 대한...   \n",
       "\n",
       "                                  reference_contexts  \\\n",
       "0  [바벨을 잡는 방법에는 크게 오버그립(over grip), 언더그립(under gr...   \n",
       "1  [성공적인 상\\n담 진행을 위해서 상담사는 내담자의 감정에 공감할 수 있어야 한다....   \n",
       "\n",
       "                                           reference  \\\n",
       "0  바벨 잡는 방법에는 오버그립, 언더그립, 리버스그립, 훅그립이 있으며, 각각의 그립...   \n",
       "1  스포츠 심리학자들은 운동선수의 성과를 향상시키기 위해 여러 가지 역할을 수행합니다....   \n",
       "\n",
       "                       synthesizer_name  \\\n",
       "0  multi_hop_abstract_query_synthesizer   \n",
       "1  multi_hop_abstract_query_synthesizer   \n",
       "\n",
       "                       reference_contexts_section  \\\n",
       "0  ['Ⅲ. 역도경기 기술의 구조와 훈련법', 'Ⅲ. 역도경기 기술의 구조와 훈련법']   \n",
       "1    ['II. 역도의 스포츠 과학적 원리', 'II. 역도의 스포츠 과학적 원리']   \n",
       "\n",
       "                                    precompute_dense  \\\n",
       "0  [기본기 개념을 발달시키는 것은 필수적이며, 바를 들어 올리는 가장 중요한 요\\n소...   \n",
       "1  [스포츠심리학은 스포츠에 참여하는 개인과 개인의 행동을 과학적으로 탐구하고\\n그 지...   \n",
       "\n",
       "                     precompute_sparse_bm25_kiwi_pos  \\\n",
       "0  [순간적으로 무거운 물체를 들어 올리는 데에는 근력 외에도 강인한 정신력이 요구\\n...   \n",
       "1  [스포츠심리학을 연구하고 스포츠심리학의 연구 성과를 스포츠 현장에 적용하는\\n스포츠...   \n",
       "\n",
       "                                  retrieved_contexts  need_retrieve  \n",
       "0  [순간적으로 무거운 물체를 들어 올리는 데에는 근력 외에도 강인한 정신력이 요구\\n...           True  \n",
       "1  [스포츠심리학을 연구하고 스포츠심리학의 연구 성과를 스포츠 현장에 적용하는\\n스포츠...          False  "
      ]
     },
     "execution_count": 42,
     "metadata": {},
     "output_type": "execute_result"
    }
   ],
   "source": [
    "dataset.head(2)"
   ]
  },
  {
   "cell_type": "markdown",
   "metadata": {},
   "source": [
    "## 1. Cohere"
   ]
  },
  {
   "cell_type": "code",
   "execution_count": 43,
   "metadata": {},
   "outputs": [
    {
     "data": {
      "text/plain": [
       "V2RerankResponse(id='f8fcd3d8-38b1-43cf-a0c4-79141770eeb6', results=[V2RerankResponseResultsItem(document=None, index=3, relevance_score=0.8029425), V2RerankResponseResultsItem(document=None, index=7, relevance_score=0.7730283), V2RerankResponseResultsItem(document=None, index=14, relevance_score=0.7610953), V2RerankResponseResultsItem(document=None, index=18, relevance_score=0.73459625), V2RerankResponseResultsItem(document=None, index=4, relevance_score=0.69573146), V2RerankResponseResultsItem(document=None, index=19, relevance_score=0.6388584), V2RerankResponseResultsItem(document=None, index=0, relevance_score=0.60049355), V2RerankResponseResultsItem(document=None, index=2, relevance_score=0.5324014), V2RerankResponseResultsItem(document=None, index=8, relevance_score=0.529337), V2RerankResponseResultsItem(document=None, index=1, relevance_score=0.529045), V2RerankResponseResultsItem(document=None, index=11, relevance_score=0.5278769), V2RerankResponseResultsItem(document=None, index=17, relevance_score=0.5157425), V2RerankResponseResultsItem(document=None, index=15, relevance_score=0.44160134), V2RerankResponseResultsItem(document=None, index=6, relevance_score=0.42419788), V2RerankResponseResultsItem(document=None, index=16, relevance_score=0.3175749), V2RerankResponseResultsItem(document=None, index=9, relevance_score=0.3058533), V2RerankResponseResultsItem(document=None, index=5, relevance_score=0.30461073), V2RerankResponseResultsItem(document=None, index=13, relevance_score=0.2744758), V2RerankResponseResultsItem(document=None, index=10, relevance_score=0.2680072), V2RerankResponseResultsItem(document=None, index=12, relevance_score=0.09572939)], meta=ApiMeta(api_version=ApiMetaApiVersion(version='2', is_deprecated=None, is_experimental=None), billed_units=ApiMetaBilledUnits(images=None, input_tokens=None, output_tokens=None, search_units=1.0, classifications=None), tokens=None, warnings=None))"
      ]
     },
     "execution_count": 43,
     "metadata": {},
     "output_type": "execute_result"
    }
   ],
   "source": [
    "co = cohere.ClientV2()\n",
    "\n",
    "# dataset['cohere'] = dataset.progress_apply(lambda x : co.rerank(model='rerank-v3.5', query=x['user_input'], documents=x['retrieved_contexts']), axis=1)\n",
    "dataset['cohere_contexts'] = dataset.apply(lambda x : [result.index for result in x['cohere'].results], axis=1)\n",
    "dataset['cohere_contexts'] = dataset.apply(lambda x: [x['retrieved_contexts'][i] for i in x['cohere_contexts']], axis=1)\n",
    "# dataset.to_csv('../data/rag/rerank_dataset.csv', index=False)"
   ]
  },
  {
   "cell_type": "markdown",
   "metadata": {},
   "source": [
    "## 2. Flash"
   ]
  },
  {
   "cell_type": "code",
   "execution_count": 78,
   "metadata": {},
   "outputs": [],
   "source": [
    "reranker = Ranker(model_name='ms-marco-MultiBERT-L-12', cache_dir='/opt')\n",
    "\n",
    "dataset['flash'] = dataset['retrieved_contexts'].apply(lambda x : [{'id': i, 'text': doc} for i, doc in enumerate(x)])\n",
    "# dataset['flash'] = dataset.progress_apply(lambda x : RerankRequest(query=x['user_input'], passages=x['flash']), axis=1)\n",
    "dataset['flash_contexts'] = dataset['flash'].progress_apply(lambda x : reranker.rerank(x))\n",
    "dataset['flash_contexts'] = dataset['flash_contexts'].apply(lambda x : [value['text'] for value in x])\n",
    "# dataset.to_csv('../data/rag/rerank_dataset.csv', index=False)"
   ]
  },
  {
   "cell_type": "code",
   "execution_count": null,
   "metadata": {},
   "outputs": [],
   "source": []
  },
  {
   "cell_type": "markdown",
   "metadata": {},
   "source": [
    "## 3. Jina"
   ]
  },
  {
   "cell_type": "code",
   "execution_count": 100,
   "metadata": {},
   "outputs": [
    {
     "name": "stderr",
     "output_type": "stream",
     "text": [
      "100%|██████████| 56/56 [01:35<00:00,  1.71s/it]\n"
     ]
    }
   ],
   "source": [
    "header = {'Authorization': f'Bearer {os.getenv('JINA_API_KEY')}'}\n",
    "url = \"https://api.jina.ai/v1/rerank\"\n",
    "\n",
    "# dataset['jina'] = dataset.progress_apply(lambda x : requests.post(url, headers=header, json={'model': 'jina-reranker-v2-base-multilingual', 'query': x['user_input'], 'documents': x['retrieved_contexts']}).json(), axis=1)\n",
    "dataset['jina_contexts'] = dataset['jina'].apply(lambda x : [result['document']['text'] for result in x['results']])\n",
    "# dataset.to_csv('../data/rag/rerank_dataset.csv', index=False)"
   ]
  },
  {
   "cell_type": "markdown",
   "metadata": {},
   "source": [
    "## 결과 분석"
   ]
  },
  {
   "cell_type": "code",
   "execution_count": null,
   "metadata": {},
   "outputs": [],
   "source": [
    "column_list = ['cohere_contexts', 'flash_contexts', 'jina_contexts']\n",
    "k_list = range(5, 11, 1)\n",
    "\n",
    "results = []\n",
    "for column, k in product(column_list, k_list):\n",
    "    result = evaluate_metrics(dataset[column], dataset['reference_contexts'], k)\n",
    "    result['reranker'] = column\n",
    "    result['k'] = k\n",
    "\n",
    "    results.append(result)\n",
    "\n",
    "result_df = pd.DataFrame(results)"
   ]
  },
  {
   "cell_type": "code",
   "execution_count": 112,
   "metadata": {},
   "outputs": [],
   "source": [
    "result_df = pd.DataFrame(results)"
   ]
  },
  {
   "cell_type": "code",
   "execution_count": 114,
   "metadata": {},
   "outputs": [
    {
     "data": {
      "text/html": [
       "<div>\n",
       "<style scoped>\n",
       "    .dataframe tbody tr th:only-of-type {\n",
       "        vertical-align: middle;\n",
       "    }\n",
       "\n",
       "    .dataframe tbody tr th {\n",
       "        vertical-align: top;\n",
       "    }\n",
       "\n",
       "    .dataframe thead th {\n",
       "        text-align: right;\n",
       "    }\n",
       "</style>\n",
       "<table border=\"1\" class=\"dataframe\">\n",
       "  <thead>\n",
       "    <tr style=\"text-align: right;\">\n",
       "      <th></th>\n",
       "      <th>ndcg</th>\n",
       "      <th>recall</th>\n",
       "      <th>map</th>\n",
       "      <th>reranker</th>\n",
       "      <th>k</th>\n",
       "    </tr>\n",
       "  </thead>\n",
       "  <tbody>\n",
       "    <tr>\n",
       "      <th>4</th>\n",
       "      <td>0.660362</td>\n",
       "      <td>0.744048</td>\n",
       "      <td>0.719657</td>\n",
       "      <td>cohere_contexts</td>\n",
       "      <td>9</td>\n",
       "    </tr>\n",
       "    <tr>\n",
       "      <th>5</th>\n",
       "      <td>0.660362</td>\n",
       "      <td>0.744048</td>\n",
       "      <td>0.719657</td>\n",
       "      <td>cohere_contexts</td>\n",
       "      <td>10</td>\n",
       "    </tr>\n",
       "    <tr>\n",
       "      <th>3</th>\n",
       "      <td>0.653770</td>\n",
       "      <td>0.726190</td>\n",
       "      <td>0.722385</td>\n",
       "      <td>cohere_contexts</td>\n",
       "      <td>8</td>\n",
       "    </tr>\n",
       "    <tr>\n",
       "      <th>2</th>\n",
       "      <td>0.639953</td>\n",
       "      <td>0.690476</td>\n",
       "      <td>0.743219</td>\n",
       "      <td>cohere_contexts</td>\n",
       "      <td>7</td>\n",
       "    </tr>\n",
       "    <tr>\n",
       "      <th>16</th>\n",
       "      <td>0.595816</td>\n",
       "      <td>0.690476</td>\n",
       "      <td>0.659042</td>\n",
       "      <td>jina_contexts</td>\n",
       "      <td>9</td>\n",
       "    </tr>\n",
       "    <tr>\n",
       "      <th>17</th>\n",
       "      <td>0.595816</td>\n",
       "      <td>0.690476</td>\n",
       "      <td>0.659042</td>\n",
       "      <td>jina_contexts</td>\n",
       "      <td>10</td>\n",
       "    </tr>\n",
       "    <tr>\n",
       "      <th>15</th>\n",
       "      <td>0.585801</td>\n",
       "      <td>0.666667</td>\n",
       "      <td>0.657802</td>\n",
       "      <td>jina_contexts</td>\n",
       "      <td>8</td>\n",
       "    </tr>\n",
       "    <tr>\n",
       "      <th>1</th>\n",
       "      <td>0.629004</td>\n",
       "      <td>0.663690</td>\n",
       "      <td>0.762351</td>\n",
       "      <td>cohere_contexts</td>\n",
       "      <td>6</td>\n",
       "    </tr>\n",
       "    <tr>\n",
       "      <th>0</th>\n",
       "      <td>0.625104</td>\n",
       "      <td>0.654762</td>\n",
       "      <td>0.761607</td>\n",
       "      <td>cohere_contexts</td>\n",
       "      <td>5</td>\n",
       "    </tr>\n",
       "    <tr>\n",
       "      <th>14</th>\n",
       "      <td>0.578892</td>\n",
       "      <td>0.648810</td>\n",
       "      <td>0.671195</td>\n",
       "      <td>jina_contexts</td>\n",
       "      <td>7</td>\n",
       "    </tr>\n",
       "    <tr>\n",
       "      <th>13</th>\n",
       "      <td>0.567943</td>\n",
       "      <td>0.622024</td>\n",
       "      <td>0.681399</td>\n",
       "      <td>jina_contexts</td>\n",
       "      <td>6</td>\n",
       "    </tr>\n",
       "    <tr>\n",
       "      <th>12</th>\n",
       "      <td>0.556243</td>\n",
       "      <td>0.595238</td>\n",
       "      <td>0.688095</td>\n",
       "      <td>jina_contexts</td>\n",
       "      <td>5</td>\n",
       "    </tr>\n",
       "    <tr>\n",
       "      <th>11</th>\n",
       "      <td>0.141138</td>\n",
       "      <td>0.294643</td>\n",
       "      <td>0.119916</td>\n",
       "      <td>flash_contexts</td>\n",
       "      <td>10</td>\n",
       "    </tr>\n",
       "    <tr>\n",
       "      <th>10</th>\n",
       "      <td>0.131643</td>\n",
       "      <td>0.267857</td>\n",
       "      <td>0.114559</td>\n",
       "      <td>flash_contexts</td>\n",
       "      <td>9</td>\n",
       "    </tr>\n",
       "    <tr>\n",
       "      <th>9</th>\n",
       "      <td>0.114262</td>\n",
       "      <td>0.223214</td>\n",
       "      <td>0.106250</td>\n",
       "      <td>flash_contexts</td>\n",
       "      <td>8</td>\n",
       "    </tr>\n",
       "    <tr>\n",
       "      <th>7</th>\n",
       "      <td>0.089139</td>\n",
       "      <td>0.160714</td>\n",
       "      <td>0.091369</td>\n",
       "      <td>flash_contexts</td>\n",
       "      <td>6</td>\n",
       "    </tr>\n",
       "    <tr>\n",
       "      <th>8</th>\n",
       "      <td>0.089139</td>\n",
       "      <td>0.160714</td>\n",
       "      <td>0.091369</td>\n",
       "      <td>flash_contexts</td>\n",
       "      <td>7</td>\n",
       "    </tr>\n",
       "    <tr>\n",
       "      <th>6</th>\n",
       "      <td>0.072473</td>\n",
       "      <td>0.125000</td>\n",
       "      <td>0.076488</td>\n",
       "      <td>flash_contexts</td>\n",
       "      <td>5</td>\n",
       "    </tr>\n",
       "  </tbody>\n",
       "</table>\n",
       "</div>"
      ],
      "text/plain": [
       "        ndcg    recall       map         reranker   k\n",
       "4   0.660362  0.744048  0.719657  cohere_contexts   9\n",
       "5   0.660362  0.744048  0.719657  cohere_contexts  10\n",
       "3   0.653770  0.726190  0.722385  cohere_contexts   8\n",
       "2   0.639953  0.690476  0.743219  cohere_contexts   7\n",
       "16  0.595816  0.690476  0.659042    jina_contexts   9\n",
       "17  0.595816  0.690476  0.659042    jina_contexts  10\n",
       "15  0.585801  0.666667  0.657802    jina_contexts   8\n",
       "1   0.629004  0.663690  0.762351  cohere_contexts   6\n",
       "0   0.625104  0.654762  0.761607  cohere_contexts   5\n",
       "14  0.578892  0.648810  0.671195    jina_contexts   7\n",
       "13  0.567943  0.622024  0.681399    jina_contexts   6\n",
       "12  0.556243  0.595238  0.688095    jina_contexts   5\n",
       "11  0.141138  0.294643  0.119916   flash_contexts  10\n",
       "10  0.131643  0.267857  0.114559   flash_contexts   9\n",
       "9   0.114262  0.223214  0.106250   flash_contexts   8\n",
       "7   0.089139  0.160714  0.091369   flash_contexts   6\n",
       "8   0.089139  0.160714  0.091369   flash_contexts   7\n",
       "6   0.072473  0.125000  0.076488   flash_contexts   5"
      ]
     },
     "execution_count": 114,
     "metadata": {},
     "output_type": "execute_result"
    }
   ],
   "source": [
    "result_df.sort_values(by = ['recall', 'ndcg', 'map'], ascending=False)"
   ]
  },
  {
   "cell_type": "code",
   "execution_count": null,
   "metadata": {},
   "outputs": [],
   "source": []
  },
  {
   "cell_type": "code",
   "execution_count": null,
   "metadata": {},
   "outputs": [],
   "source": []
  }
 ],
 "metadata": {
  "kernelspec": {
   "display_name": "SportAgent",
   "language": "python",
   "name": "python3"
  },
  "language_info": {
   "codemirror_mode": {
    "name": "ipython",
    "version": 3
   },
   "file_extension": ".py",
   "mimetype": "text/x-python",
   "name": "python",
   "nbconvert_exporter": "python",
   "pygments_lexer": "ipython3",
   "version": "3.12.9"
  }
 },
 "nbformat": 4,
 "nbformat_minor": 2
}
