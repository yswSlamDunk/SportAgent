{
 "cells": [
  {
   "cell_type": "code",
   "execution_count": 1,
   "metadata": {},
   "outputs": [
    {
     "data": {
      "text/plain": [
       "True"
      ]
     },
     "execution_count": 1,
     "metadata": {},
     "output_type": "execute_result"
    }
   ],
   "source": [
    "from langchain_openai import ChatOpenAI\n",
    "from langchain_core.prompts import PromptTemplate\n",
    "from langchain_core.runnables import chain\n",
    "from langchain_core.prompts import load_prompt\n",
    "\n",
    "from dotenv import load_dotenv\n",
    "load_dotenv()"
   ]
  },
  {
   "cell_type": "markdown",
   "metadata": {},
   "source": [
    "### 데이터셋"
   ]
  },
  {
   "cell_type": "code",
   "execution_count": 2,
   "metadata": {},
   "outputs": [],
   "source": [
    "import os\n",
    "import json\n",
    "import pandas as pd\n",
    "\n",
    "with open('../data/document/역도/documentParseGraph_state.json', 'r') as f:\n",
    "    state = json.load(f)"
   ]
  },
  {
   "cell_type": "code",
   "execution_count": 3,
   "metadata": {},
   "outputs": [],
   "source": [
    "texts = []\n",
    "headings = []\n",
    "\n",
    "for i, document in enumerate(state['documents']):\n",
    "    headings.append('\\n'.join([value for key, value in document['meta']['heading'].items() if value != None]))\n",
    "    texts.append(' '.join([content['text'] for content in document['content'] if content['category'] == 'paragraph']))\n",
    "\n",
    "df = pd.DataFrame({'heading': headings, 'text': texts})\n",
    "df['isNull'] = df['text'].apply(lambda x : True if x == '' else False)\n",
    "df['originContext'] = df['heading'] + ' ' + df['text']"
   ]
  },
  {
   "cell_type": "code",
   "execution_count": 4,
   "metadata": {},
   "outputs": [
    {
     "data": {
      "text/html": [
       "<div>\n",
       "<style scoped>\n",
       "    .dataframe tbody tr th:only-of-type {\n",
       "        vertical-align: middle;\n",
       "    }\n",
       "\n",
       "    .dataframe tbody tr th {\n",
       "        vertical-align: top;\n",
       "    }\n",
       "\n",
       "    .dataframe thead th {\n",
       "        text-align: right;\n",
       "    }\n",
       "</style>\n",
       "<table border=\"1\" class=\"dataframe\">\n",
       "  <thead>\n",
       "    <tr style=\"text-align: right;\">\n",
       "      <th></th>\n",
       "      <th>heading</th>\n",
       "      <th>text</th>\n",
       "      <th>isNull</th>\n",
       "      <th>originContext</th>\n",
       "    </tr>\n",
       "  </thead>\n",
       "  <tbody>\n",
       "    <tr>\n",
       "      <th>0</th>\n",
       "      <td>Ⅴ.역도 훈련프로그램 구성 및 지도안\\n1. 훈련프로그램의 구성 원리</td>\n",
       "      <td>역도 훈련프로그램의 구성은 트레이닝의 원리에 입각하여 안전하고 효과적인 훈\\n련 프...</td>\n",
       "      <td>False</td>\n",
       "      <td>Ⅴ.역도 훈련프로그램 구성 및 지도안\\n1. 훈련프로그램의 구성 원리 역도 훈련프로...</td>\n",
       "    </tr>\n",
       "    <tr>\n",
       "      <th>1</th>\n",
       "      <td>Ⅴ.역도 훈련프로그램 구성 및 지도안\\n1. 훈련프로그램의 구성 원리\\n가. 일반적...</td>\n",
       "      <td>특수성의 원리는 특수한 변화나 결과를 초래하기 위하여 특수한 방법으로 훈련\\n하는 ...</td>\n",
       "      <td>False</td>\n",
       "      <td>Ⅴ.역도 훈련프로그램 구성 및 지도안\\n1. 훈련프로그램의 구성 원리\\n가. 일반적...</td>\n",
       "    </tr>\n",
       "  </tbody>\n",
       "</table>\n",
       "</div>"
      ],
      "text/plain": [
       "                                             heading  \\\n",
       "0             Ⅴ.역도 훈련프로그램 구성 및 지도안\\n1. 훈련프로그램의 구성 원리   \n",
       "1  Ⅴ.역도 훈련프로그램 구성 및 지도안\\n1. 훈련프로그램의 구성 원리\\n가. 일반적...   \n",
       "\n",
       "                                                text  isNull  \\\n",
       "0  역도 훈련프로그램의 구성은 트레이닝의 원리에 입각하여 안전하고 효과적인 훈\\n련 프...   False   \n",
       "1  특수성의 원리는 특수한 변화나 결과를 초래하기 위하여 특수한 방법으로 훈련\\n하는 ...   False   \n",
       "\n",
       "                                       originContext  \n",
       "0  Ⅴ.역도 훈련프로그램 구성 및 지도안\\n1. 훈련프로그램의 구성 원리 역도 훈련프로...  \n",
       "1  Ⅴ.역도 훈련프로그램 구성 및 지도안\\n1. 훈련프로그램의 구성 원리\\n가. 일반적...  "
      ]
     },
     "execution_count": 4,
     "metadata": {},
     "output_type": "execute_result"
    }
   ],
   "source": [
    "df.head(2)"
   ]
  },
  {
   "cell_type": "markdown",
   "metadata": {},
   "source": [
    "### 불필요한 공백 제거 및 전처리"
   ]
  },
  {
   "cell_type": "code",
   "execution_count": 15,
   "metadata": {},
   "outputs": [],
   "source": [
    "def preprocessing_result(dataset):    \n",
    "    llm = ChatOpenAI(model='gpt-4o-mini', temperature=0)\n",
    "    preprocessing_prompt = load_prompt('../prompt/preprocessing/preprocessing_20250317_01.yaml')\n",
    "    preprocessing_chain = preprocessing_prompt | llm\n",
    "\n",
    "    result = preprocessing_chain.batch(dataset, config={\"max_concurrency\": 5})    \n",
    "    return result"
   ]
  },
  {
   "cell_type": "code",
   "execution_count": 56,
   "metadata": {},
   "outputs": [],
   "source": [
    "dataset = df.loc[df['isNull'] == False]['text'].tolist()\n",
    "dataset = [{'sentences': data} for data in dataset]\n",
    "# result = preprocessing_result(dataset)\n",
    "result_content = [value.content for value in result]\n",
    "\n",
    "df.loc[df['isNull'] == False, 'preprocessedText'] = result_content\n",
    "df.loc[df['isNull'] == True, 'preprocessedText'] = ''\n",
    "df['preprocessedContext'] = df['heading'] + '\\n' + df['preprocessedText']"
   ]
  },
  {
   "cell_type": "markdown",
   "metadata": {},
   "source": [
    "### 전처리 유무에 따른 요약 성능 비교 "
   ]
  },
  {
   "cell_type": "code",
   "execution_count": 58,
   "metadata": {},
   "outputs": [],
   "source": [
    "def summary_result(dataset):    \n",
    "    llm = ChatOpenAI(model='gpt-4o-mini', temperature=0)\n",
    "    summary_prompt = load_prompt('../prompt/summary/stuff_20250317_01.yaml')\n",
    "    summary_chain = summary_prompt | llm\n",
    "\n",
    "    result = summary_chain.batch(dataset, config={\"max_concurrency\": 5})    \n",
    "    return result"
   ]
  },
  {
   "cell_type": "code",
   "execution_count": null,
   "metadata": {},
   "outputs": [],
   "source": [
    "dataset = [{'text': data} for data in df['preprocessedContext']]\n",
    "# result = summary_result(dataset)\n",
    "result_content = [value.content for value in result]\n",
    "\n",
    "df['preprocessedSummary'] = result_content"
   ]
  },
  {
   "cell_type": "code",
   "execution_count": 70,
   "metadata": {},
   "outputs": [],
   "source": [
    "dataset = [{'text': data} for data in df['originContext']]\n",
    "# result = summary_result(dataset)\n",
    "result_content = [value.content for value in result]\n",
    "\n",
    "df['originSummary'] = result_content"
   ]
  },
  {
   "cell_type": "markdown",
   "metadata": {},
   "source": [
    "### 결과 확인\n",
    "1. null value(paragraph가 없는 chunking)\n",
    "   - paragraph가 없고 heading만 있는 chunking의 요약문 결과를 보면, heading을 기반으로 추가적인 정보가 요약에 들어감을 확인\n",
    "   - 요약 프롬프트 개선을 통해 추가정보 차단 필요\n",
    "2. 전처리 유무에 따른 요약 결과 비교\n",
    "   - 전처리 유무에 따른 요약 결과의 차이는 거의 없음"
   ]
  },
  {
   "cell_type": "code",
   "execution_count": 79,
   "metadata": {},
   "outputs": [
    {
     "name": "stdout",
     "output_type": "stream",
     "text": [
      "Ⅴ.역도 훈련프로그램 구성 및 지도안\n",
      "1. 훈련프로그램의 구성 원리\n",
      "라. 경력에 따른 훈련프로그램\n",
      "2) 중급훈련계획(중급자)\n",
      "나) 2단계\n",
      "\n",
      "역도 훈련프로그램은 훈련의 경력에 따라 구성되어 있으며, 중급자를 위한 훈련계획은 2단계로 나뉘어 있다. 이러한 구성 원리는 훈련의 효과를 극대화하기 위해 설계되었으며, 각 단계는 훈련자의 능력에 맞춰 조정된다. 중급자에게 적합한 훈련은 기술 향상과 체력 강화를 동시에 목표로 하여, 체계적인 접근이 필요하다.\n",
      "역도 훈련프로그램은 훈련의 경력에 따라 구성되어 있으며, 중급자를 위한 훈련계획이 포함되어 있다. 특히, 중급자에게 적합한 2단계 훈련이 제시되어 있어, 이 단계에서는 보다 체계적이고 효과적인 훈련을 통해 기술과 체력을 향상시키는 데 중점을 두고 있다. 이러한 구성 원리는 훈련의 효과성을 높이기 위한 중요한 요소로 작용한다.\n",
      "--------------------------------\n",
      "Ⅴ.역도 훈련프로그램 구성 및 지도안\n",
      "1. 훈련프로그램의 구성 원리\n",
      "마. 훈련지도안 작성\n",
      "1) 대표적인 훈련계획(typical schemes for sessions)\n",
      "가) 인상 기술 향상을 위한 프로그램\n",
      "\n",
      "역도 훈련 프로그램은 효과적인 훈련을 위해 구성 원리를 따르며, 이를 바탕으로 훈련 지도안을 작성하는 것이 중요하다. 특히, 인상 기술 향상을 위한 프로그램이 대표적인 훈련 계획으로 제시된다. 이러한 프로그램은 선수의 기술적 능력을 높이는 데 중점을 두고 설계되어, 훈련의 효율성을 극대화하는 데 기여한다.\n",
      "역도 훈련 프로그램은 효과적인 훈련을 위해 구성 원리를 따르며, 이를 바탕으로 훈련 지도안을 작성하는 것이 중요하다. 특히, 대표적인 훈련 계획 중 하나는 인상 기술 향상을 위한 프로그램이다. 이 프로그램은 선수들이 기술을 개선하고 성과를 높일 수 있도록 체계적으로 설계되어 있다.\n",
      "--------------------------------\n",
      "Ⅴ.역도 훈련프로그램 구성 및 지도안\n",
      "1. 훈련프로그램의 구성 원리\n",
      "마. 훈련지도안 작성\n",
      "1) 대표적인 훈련계획(typical schemes for sessions)\n",
      "나) 근력발달과 용상 기술 향상을 위한 프로그램\n",
      "\n",
      "역도 훈련 프로그램은 훈련의 구성 원리에 따라 체계적으로 설계되어야 하며, 이를 위해 훈련 지도안을 작성하는 것이 중요하다. 대표적인 훈련 계획은 세션별로 나뉘어 있으며, 특히 근력 발달과 용상 기술 향상을 목표로 하는 프로그램이 포함된다. 이러한 프로그램은 선수의 전반적인 능력을 향상시키기 위해 필수적인 요소로 작용한다.\n",
      "역도 훈련 프로그램은 훈련의 구성 원리에 따라 체계적으로 설계되어야 하며, 이를 위해 훈련 지도안을 작성하는 것이 중요하다. 특히, 대표적인 훈련 계획을 통해 근력 발달과 용상 기술 향상을 목표로 하는 프로그램이 필요하다. 이러한 프로그램은 훈련의 효과를 극대화하고, 선수의 전반적인 능력을 향상시키는 데 기여할 수 있다.\n",
      "--------------------------------\n",
      "Ⅴ.역도 훈련프로그램 구성 및 지도안\n",
      "1. 훈련프로그램의 구성 원리\n",
      "마. 훈련지도안 작성\n",
      "1) 대표적인 훈련계획(typical schemes for sessions)\n",
      "다) 근력강화를 위한 프로그램\n",
      "\n",
      "역도 훈련 프로그램은 효과적인 훈련을 위해 구성 원리를 따르며, 특히 훈련 지도안 작성이 중요하다. 이 지도안에는 대표적인 훈련 계획이 포함되어 있으며, 그 중에서도 근력 강화를 위한 프로그램이 핵심적인 요소로 자리잡고 있다. 이러한 프로그램은 훈련의 목표를 명확히 하고, 체계적인 접근을 통해 선수들의 성과를 극대화하는 데 기여한다.\n",
      "역도 훈련 프로그램은 효과적인 훈련을 위해 구성 원리를 따르며, 특히 훈련 지도안 작성이 중요하다. 이 과정에서 대표적인 훈련 계획이 제시되며, 그 중 하나는 근력 강화를 위한 프로그램이다. 이러한 프로그램은 선수들이 체계적으로 훈련할 수 있도록 돕고, 각 세션의 목표를 명확히 하여 훈련의 효율성을 높인다.\n",
      "--------------------------------\n",
      "Ⅴ.역도 훈련프로그램 구성 및 지도안\n",
      "1. 훈련프로그램의 구성 원리\n",
      "마. 훈련지도안 작성\n",
      "1) 대표적인 훈련계획(typical schemes for sessions)\n",
      "라) 기술이 부족한 선수를 위한 훈련프로그램(snatch 와 snatch pull extension)\n",
      "\n",
      "역도 훈련프로그램은 효과적인 훈련을 위해 구성 원리를 따르며, 이를 바탕으로 훈련지도안을 작성하는 것이 중요하다. 특히, 대표적인 훈련계획을 통해 세션을 구성하고, 기술이 부족한 선수를 위한 맞춤형 훈련프로그램도 필요하다. 이러한 프로그램은 snatch와 snatch pull extension을 포함하여 선수의 기술 향상을 도모하는 데 중점을 둔다.\n",
      "역도 훈련 프로그램은 효과적인 훈련을 위해 구성 원리를 따르며, 이를 바탕으로 훈련 지도안을 작성하는 것이 중요하다. 특히, 기술이 부족한 선수를 위한 훈련 프로그램이 필요하며, 이 프로그램은 snatch와 snatch pull extension을 포함하여 선수의 기술 향상을 도모한다. 이러한 접근은 선수들이 기본기를 다지고, 점진적으로 기술을 발전시킬 수 있도록 돕는다.\n",
      "--------------------------------\n",
      "Ⅴ.역도 훈련프로그램 구성 및 지도안\n",
      "1. 훈련프로그램의 구성 원리\n",
      "마. 훈련지도안 작성\n",
      "1) 대표적인 훈련계획(typical schemes for sessions)\n",
      "마) 용상 기술완비와 Clean Pull extension 완성을 위한 프로그램\n",
      "\n",
      "역도 훈련 프로그램은 훈련의 구성 원리를 바탕으로 체계적으로 설계되어야 하며, 이를 위해 훈련 지도안을 작성하는 것이 중요하다. 특히, 대표적인 훈련 계획을 통해 세션을 효과적으로 구성할 수 있으며, 용상 기술 완비와 Clean Pull extension 완성을 위한 프로그램이 포함된다. 이러한 프로그램은 선수들이 기술을 습득하고 향상시키는 데 도움을 줄 것이다.\n",
      "역도 훈련 프로그램은 훈련의 구성 원리에 따라 체계적으로 설계되어야 하며, 이를 위해 훈련 지도안을 작성하는 것이 중요하다. 특히, 대표적인 훈련 계획을 통해 훈련 세션을 효과적으로 구성할 수 있다. 이 과정에서 용상 기술을 완비하고 Clean Pull extension을 완성하기 위한 프로그램이 포함되어야 한다. 이러한 요소들은 훈련의 목표 달성을 위해 필수적이며, 훈련생의 기술 향상에 기여할 것이다.\n",
      "--------------------------------\n"
     ]
    }
   ],
   "source": [
    "for i, row in df.loc[df['isNull'] == True].iterrows():\n",
    "    print(row['preprocessedContext'])\n",
    "    print(row['preprocessedSummary'])\n",
    "    print(row['originSummary'])\n",
    "    print('--------------------------------')\n"
   ]
  },
  {
   "cell_type": "markdown",
   "metadata": {},
   "source": [
    "### summary 수정\n",
    "- paragraph가 없는 chunking 요약 결과에 추가 정보 조치 방안 추가"
   ]
  },
  {
   "cell_type": "code",
   "execution_count": 82,
   "metadata": {},
   "outputs": [],
   "source": [
    "def summary_result(dataset):    \n",
    "    llm = ChatOpenAI(model='gpt-4o-mini', temperature=0)\n",
    "    summary_prompt = load_prompt('../prompt/summary/stuff_20250317_02.yaml')\n",
    "    summary_chain = summary_prompt | llm\n",
    "\n",
    "    result = summary_chain.batch(dataset, config={\"max_concurrency\": 5})    \n",
    "    return result"
   ]
  },
  {
   "cell_type": "code",
   "execution_count": 84,
   "metadata": {},
   "outputs": [],
   "source": [
    "dataset = [{'text': data} for data in df['preprocessedContext']]\n",
    "result = summary_result(dataset)\n",
    "result_content = [value.content for value in result]\n",
    "\n",
    "df['preprocessedSummary2'] = result_content"
   ]
  },
  {
   "cell_type": "code",
   "execution_count": 85,
   "metadata": {},
   "outputs": [
    {
     "name": "stdout",
     "output_type": "stream",
     "text": [
      "Ⅴ.역도 훈련프로그램 구성 및 지도안\n",
      "1. 훈련프로그램의 구성 원리\n",
      "라. 경력에 따른 훈련프로그램\n",
      "2) 중급훈련계획(중급자)\n",
      "나) 2단계\n",
      "\n",
      "역도 훈련프로그램은 훈련의 경력에 따라 구성되어 있으며, 중급자를 위한 훈련계획은 2단계로 나뉘어 있다. 이러한 구성 원리는 훈련의 효과를 극대화하기 위해 설계되었으며, 각 단계는 훈련자의 능력에 맞춰 조정된다. 중급자에게 적합한 훈련은 기술 향상과 체력 강화를 동시에 목표로 하여, 체계적인 접근이 필요하다.\n",
      "Summary: 이 텍스트는 역도 훈련프로그램 구성 및 지도안에 대한 내용을 다루고 있다. 첫 번째로 훈련프로그램의 구성 원리에 대해 설명하며, 경력에 따른 훈련프로그램을 포함하고 있다. 두 번째로 중급훈련계획에 대한 내용이 있으며, 중급자를 위한 2단계가 언급된다.\n",
      "--------------------------------\n",
      "Ⅴ.역도 훈련프로그램 구성 및 지도안\n",
      "1. 훈련프로그램의 구성 원리\n",
      "마. 훈련지도안 작성\n",
      "1) 대표적인 훈련계획(typical schemes for sessions)\n",
      "가) 인상 기술 향상을 위한 프로그램\n",
      "\n",
      "역도 훈련 프로그램은 효과적인 훈련을 위해 구성 원리를 따르며, 이를 바탕으로 훈련 지도안을 작성하는 것이 중요하다. 특히, 인상 기술 향상을 위한 프로그램이 대표적인 훈련 계획으로 제시된다. 이러한 프로그램은 선수의 기술적 능력을 높이는 데 중점을 두고 설계되어, 훈련의 효율성을 극대화하는 데 기여한다.\n",
      "Summary: 이 텍스트는 역도 훈련프로그램 구성 및 지도안에 대한 내용을 다루고 있다. 훈련프로그램의 구성 원리에 대해 설명하며, 훈련지도안 작성과 관련된 내용을 포함하고 있다. 또한, 대표적인 훈련계획으로 인상 기술 향상을 위한 프로그램이 언급된다.\n",
      "--------------------------------\n",
      "Ⅴ.역도 훈련프로그램 구성 및 지도안\n",
      "1. 훈련프로그램의 구성 원리\n",
      "마. 훈련지도안 작성\n",
      "1) 대표적인 훈련계획(typical schemes for sessions)\n",
      "나) 근력발달과 용상 기술 향상을 위한 프로그램\n",
      "\n",
      "역도 훈련 프로그램은 훈련의 구성 원리에 따라 체계적으로 설계되어야 하며, 이를 위해 훈련 지도안을 작성하는 것이 중요하다. 대표적인 훈련 계획은 세션별로 나뉘어 있으며, 특히 근력 발달과 용상 기술 향상을 목표로 하는 프로그램이 포함된다. 이러한 프로그램은 선수의 전반적인 능력을 향상시키기 위해 필수적인 요소로 작용한다.\n",
      "Summary: 이 텍스트는 역도 훈련프로그램 구성 및 지도안에 대한 내용을 다루고 있다. 훈련프로그램의 구성 원리와 훈련지도안 작성에 대한 부분이 포함되어 있으며, 대표적인 훈련계획과 근력발달 및 용상 기술 향상을 위한 프로그램이 언급된다.\n",
      "--------------------------------\n",
      "Ⅴ.역도 훈련프로그램 구성 및 지도안\n",
      "1. 훈련프로그램의 구성 원리\n",
      "마. 훈련지도안 작성\n",
      "1) 대표적인 훈련계획(typical schemes for sessions)\n",
      "다) 근력강화를 위한 프로그램\n",
      "\n",
      "역도 훈련 프로그램은 효과적인 훈련을 위해 구성 원리를 따르며, 특히 훈련 지도안 작성이 중요하다. 이 지도안에는 대표적인 훈련 계획이 포함되어 있으며, 그 중에서도 근력 강화를 위한 프로그램이 핵심적인 요소로 자리잡고 있다. 이러한 프로그램은 훈련의 목표를 명확히 하고, 체계적인 접근을 통해 선수들의 성과를 극대화하는 데 기여한다.\n",
      "Summary: 이 텍스트는 역도 훈련프로그램 구성 및 지도안에 대한 내용을 다루고 있다. 훈련프로그램의 구성 원리와 훈련지도안 작성에 대한 부분이 포함되어 있으며, 대표적인 훈련계획과 근력강화를 위한 프로그램이 언급된다.\n",
      "--------------------------------\n",
      "Ⅴ.역도 훈련프로그램 구성 및 지도안\n",
      "1. 훈련프로그램의 구성 원리\n",
      "마. 훈련지도안 작성\n",
      "1) 대표적인 훈련계획(typical schemes for sessions)\n",
      "라) 기술이 부족한 선수를 위한 훈련프로그램(snatch 와 snatch pull extension)\n",
      "\n",
      "역도 훈련프로그램은 효과적인 훈련을 위해 구성 원리를 따르며, 이를 바탕으로 훈련지도안을 작성하는 것이 중요하다. 특히, 대표적인 훈련계획을 통해 세션을 구성하고, 기술이 부족한 선수를 위한 맞춤형 훈련프로그램도 필요하다. 이러한 프로그램은 snatch와 snatch pull extension을 포함하여 선수의 기술 향상을 도모하는 데 중점을 둔다.\n",
      "Summary: 이 텍스트는 역도 훈련프로그램 구성 및 지도안에 대한 내용을 다루고 있다. 훈련프로그램의 구성 원리와 훈련지도안 작성에 대한 부분이 포함되어 있으며, 대표적인 훈련계획과 기술이 부족한 선수를 위한 훈련프로그램인 snatch와 snatch pull extension에 대한 내용이 언급되어 있다.\n",
      "--------------------------------\n",
      "Ⅴ.역도 훈련프로그램 구성 및 지도안\n",
      "1. 훈련프로그램의 구성 원리\n",
      "마. 훈련지도안 작성\n",
      "1) 대표적인 훈련계획(typical schemes for sessions)\n",
      "마) 용상 기술완비와 Clean Pull extension 완성을 위한 프로그램\n",
      "\n",
      "역도 훈련 프로그램은 훈련의 구성 원리를 바탕으로 체계적으로 설계되어야 하며, 이를 위해 훈련 지도안을 작성하는 것이 중요하다. 특히, 대표적인 훈련 계획을 통해 세션을 효과적으로 구성할 수 있으며, 용상 기술 완비와 Clean Pull extension 완성을 위한 프로그램이 포함된다. 이러한 프로그램은 선수들이 기술을 습득하고 향상시키는 데 도움을 줄 것이다.\n",
      "Summary: 이 텍스트는 역도 훈련프로그램 구성 및 지도안에 대한 내용을 다루고 있다. 훈련프로그램의 구성 원리와 훈련지도안 작성에 대한 설명이 포함되어 있으며, 대표적인 훈련계획과 용상 기술완비 및 Clean Pull extension 완성을 위한 프로그램이 언급되어 있다.\n",
      "--------------------------------\n"
     ]
    }
   ],
   "source": [
    "for i, row in df.loc[df['isNull'] == True].iterrows():\n",
    "    print(row['preprocessedContext'])\n",
    "    print(row['preprocessedSummary'])\n",
    "    print(row['preprocessedSummary2'])\n",
    "    print('--------------------------------')\n"
   ]
  },
  {
   "cell_type": "code",
   "execution_count": null,
   "metadata": {},
   "outputs": [],
   "source": []
  }
 ],
 "metadata": {
  "kernelspec": {
   "display_name": "SportAgent",
   "language": "python",
   "name": "python3"
  },
  "language_info": {
   "codemirror_mode": {
    "name": "ipython",
    "version": 3
   },
   "file_extension": ".py",
   "mimetype": "text/x-python",
   "name": "python",
   "nbconvert_exporter": "python",
   "pygments_lexer": "ipython3",
   "version": "3.9.21"
  }
 },
 "nbformat": 4,
 "nbformat_minor": 2
}
