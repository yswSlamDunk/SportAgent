{
 "cells": [
  {
   "cell_type": "markdown",
   "metadata": {},
   "source": [
    "평가 최종 지표\n",
    "1. faithfulness(ragas): 생성된 응답이 제공된 컨텍스트(문서 조각)에 기반한 사실과 일치하는지 평가\n",
    "2. relevancy(ragas): 응답이 사용자의 질문과 관련되어 있는지 평가\n",
    "3. context precision(정답지와 참고 문서의 관련성 비교)(ragas): 응답에 사용된 정보가 정확히 컨텍스트에서 추출된 정보인지, 즉 질문에 필요한 정보만 포함되었는지를 평가\n",
    "    * 0.91\n",
    "    * context precision@k\n",
    "4. sentence Transformer(all-minilm-l6-v2): sentence-bert\n",
    "    * 코사인 유사도 결과: 0.9\n",
    "    * 정상적인 비교-판단: accuracy 0.74"
   ]
  },
  {
   "cell_type": "code",
   "execution_count": 28,
   "metadata": {},
   "outputs": [],
   "source": [
    "import os\n",
    "import pandas as pd\n",
    "\n",
    "from pydantic import BaseModel, Field\n",
    "from typing import List\n",
    "\n",
    "from ragas.dataset_schema import SingleTurnSample\n",
    "from ragas.metrics import Faithfulness, ResponseRelevancy, ContextPrecision\n",
    "\n",
    "from langchain.chat_models import ChatOpenAI\n",
    "from langchain_core.prompts import load_prompt\n",
    "from langchain_core.output_parsers import PydanticOutputParser"
   ]
  },
  {
   "cell_type": "code",
   "execution_count": 29,
   "metadata": {},
   "outputs": [],
   "source": [
    "dataset = pd.read_csv('../data/rag/rerank_dataset.csv')\n",
    "dataset['reference_contexts'] = dataset['reference_contexts'].apply(lambda x : eval(x))\n",
    "dataset['retrieved_contexts'] = dataset['retrieved_contexts'].apply(lambda x : eval(x))\n",
    "dataset['cohere_contexts'] = dataset['cohere_contexts'].apply(lambda x : eval(x))\n",
    "dataset['rerank_contexts'] = dataset['cohere_contexts'].apply(lambda x : '\\n\\n'.join(['document_{i}: \\n{context}'.format(i=i, context=context) for i, context in enumerate(x[:9])]))"
   ]
  },
  {
   "cell_type": "code",
   "execution_count": 49,
   "metadata": {},
   "outputs": [
    {
     "name": "stdout",
     "output_type": "stream",
     "text": [
      "스포츠 심리학자들은 선수의 성과 향상에 어떤 역할을 하며, 그들의 개인 문제에 대한 이해가 정신 훈련 프로그램의 효과성에 어떤 영향을 미치는가?\n",
      "스포츠 심리학자들은 운동선수의 성과를 향상시키기 위해 여러 가지 역할을 수행합니다. 이들은 스포츠 심리학에서 지식과 이론을 창출하고 검증하기 위한 연구를 수행하고, 학교나 팀에서 관련 과목을 가르치며, 현장에서 멘탈 코치로서 심리학적 지식을 적용하여 성과를 개선합니다. 개인적인 문제에 대한 이해는 매우 중요합니다. 이러한 문제는 멘탈 훈련 프로그램의 효과성에 영향을 미칠 수 있기 때문입니다. 심리적 기술 훈련 중에는 성과와 관련된 개인적인 문제를 다루며, 이러한 개인적인 문제를 관리하는 것이 훈련이 운동선수의 성과에 긍정적인 영향을 미치도록 보장하는 데 중요합니다.\n",
      "스포츠 심리학자들은 선수의 성과 향상을 위해 멘탈 코칭 프로그램을 개발하고 적용하며, 개인의 성격, 동기, 정서, 인지 특성과 운동 수행의 관련성을 탐구한다. 그들의 개인 문제에 대한 이해는 정신 훈련 프로그램의 효과성에 영향을 미치며, 특히 개인의 환경이나 상황도 중요한 변수로 작용하기 때문에 이러한 문제를 조절하고 관리하는 것이 필요하다.\n"
     ]
    }
   ],
   "source": [
    "llm = ChatOpenAI(model='gpt-4o-mini', temperature=0.2)\n",
    "\n",
    "prompt = load_prompt('../prompt/generate/generate.yaml')\n",
    "chain = prompt | llm \n",
    "\n",
    "tmp = chain.invoke({'input_query': dataset.iloc[1]['user_input'], 'contexts': dataset.iloc[1]['cohere_contexts'][:9]})\n",
    "\n",
    "print(dataset.iloc[1]['user_input'])\n",
    "print(dataset.iloc[1]['reference'])\n",
    "print(tmp.content)"
   ]
  },
  {
   "cell_type": "code",
   "execution_count": null,
   "metadata": {},
   "outputs": [],
   "source": []
  },
  {
   "cell_type": "code",
   "execution_count": 50,
   "metadata": {},
   "outputs": [
    {
     "name": "stderr",
     "output_type": "stream",
     "text": [
      "Evaluating: 100%|██████████| 2/2 [00:22<00:00, 11.32s/it]\n"
     ]
    }
   ],
   "source": [
    "data_samples = {\n",
    "    'question': [dataset.iloc[1]['user_input']],\n",
    "    'answer': [dataset.iloc[1]['reference']],\n",
    "    'contexts': [dataset.iloc[1]['cohere_contexts'][:9]],\n",
    "    'reference': [dataset.iloc[1]['reference']]\n",
    "}\n",
    "\n",
    "tmp_dataset = Dataset.from_dict(data_samples)\n",
    "score = evaluate(tmp_dataset, metrics=[faithfulness, context_precision])"
   ]
  },
  {
   "cell_type": "code",
   "execution_count": 51,
   "metadata": {},
   "outputs": [
    {
     "data": {
      "text/html": [
       "<div>\n",
       "<style scoped>\n",
       "    .dataframe tbody tr th:only-of-type {\n",
       "        vertical-align: middle;\n",
       "    }\n",
       "\n",
       "    .dataframe tbody tr th {\n",
       "        vertical-align: top;\n",
       "    }\n",
       "\n",
       "    .dataframe thead th {\n",
       "        text-align: right;\n",
       "    }\n",
       "</style>\n",
       "<table border=\"1\" class=\"dataframe\">\n",
       "  <thead>\n",
       "    <tr style=\"text-align: right;\">\n",
       "      <th></th>\n",
       "      <th>user_input</th>\n",
       "      <th>retrieved_contexts</th>\n",
       "      <th>response</th>\n",
       "      <th>reference</th>\n",
       "      <th>faithfulness</th>\n",
       "      <th>context_precision</th>\n",
       "    </tr>\n",
       "  </thead>\n",
       "  <tbody>\n",
       "    <tr>\n",
       "      <th>0</th>\n",
       "      <td>스포츠 심리학자들은 선수의 성과 향상에 어떤 역할을 하며, 그들의 개인 문제에 대한...</td>\n",
       "      <td>[스포츠심리학을 연구하고 스포츠심리학의 연구 성과를 스포츠 현장에 적용하는\\n스포츠...</td>\n",
       "      <td>스포츠 심리학자들은 운동선수의 성과를 향상시키기 위해 여러 가지 역할을 수행합니다....</td>\n",
       "      <td>스포츠 심리학자들은 운동선수의 성과를 향상시키기 위해 여러 가지 역할을 수행합니다....</td>\n",
       "      <td>1.0</td>\n",
       "      <td>1.0</td>\n",
       "    </tr>\n",
       "  </tbody>\n",
       "</table>\n",
       "</div>"
      ],
      "text/plain": [
       "                                          user_input  \\\n",
       "0  스포츠 심리학자들은 선수의 성과 향상에 어떤 역할을 하며, 그들의 개인 문제에 대한...   \n",
       "\n",
       "                                  retrieved_contexts  \\\n",
       "0  [스포츠심리학을 연구하고 스포츠심리학의 연구 성과를 스포츠 현장에 적용하는\\n스포츠...   \n",
       "\n",
       "                                            response  \\\n",
       "0  스포츠 심리학자들은 운동선수의 성과를 향상시키기 위해 여러 가지 역할을 수행합니다....   \n",
       "\n",
       "                                           reference  faithfulness  \\\n",
       "0  스포츠 심리학자들은 운동선수의 성과를 향상시키기 위해 여러 가지 역할을 수행합니다....           1.0   \n",
       "\n",
       "   context_precision  \n",
       "0                1.0  "
      ]
     },
     "execution_count": 51,
     "metadata": {},
     "output_type": "execute_result"
    }
   ],
   "source": [
    "score.to_pandas()"
   ]
  },
  {
   "cell_type": "code",
   "execution_count": null,
   "metadata": {},
   "outputs": [],
   "source": []
  },
  {
   "cell_type": "code",
   "execution_count": 30,
   "metadata": {},
   "outputs": [],
   "source": [
    "llm = ChatOpenAI(model='gpt-4o-mini', temperature=0.2)\n",
    "\n",
    "class GenerateAttributionOutput(BaseModel):\n",
    "    attribution: List[str] = Field(..., description=\"List of attribution\")\n",
    "    answer: str = Field(..., description=\"Answer\")\n",
    "\n",
    "parser = PydanticOutputParser(pydantic_object=GenerateAttributionOutput)\n",
    "\n",
    "prompt = load_prompt('../prompt/generate/generate_attribution.yaml')\n",
    "prompt = prompt.partial(format=parser.get_format_instructions())\n",
    "\n",
    "chain = prompt | llm "
   ]
  },
  {
   "cell_type": "code",
   "execution_count": 31,
   "metadata": {},
   "outputs": [],
   "source": [
    "tmp = chain.invoke({'input_query': dataset.iloc[0]['user_input'], 'contexts': dataset.iloc[0]['rerank_contexts']})"
   ]
  },
  {
   "cell_type": "code",
   "execution_count": 34,
   "metadata": {},
   "outputs": [
    {
     "name": "stdout",
     "output_type": "stream",
     "text": [
      "바벨 잡는 방법과 앉아받기 동작의 올바른 수행을 결합하여 최적의 리프팅 기술을 설명해줘.\n",
      "바벨 잡는 방법에는 오버그립, 언더그립, 리버스그립, 훅그립이 있으며, 각각의 그립은 특정 운동에 적합하다. 예를 들어, 오버그립은 손바닥을 몸 쪽으로 향하게 하여 바벨을 잡는 방법으로, 일반적으로 많은 운동에서 사용된다. 앉아받기 동작은 바벨을 치골 또는 조금 높이 올린 후, 하방으로 다리를 강하게 옆으로 딛고 팔꿈치를 빠르게 앞으로 향하게 하여 가슴 위에 바벨을 위치시키는 것이 중요하다. 이 두 가지 기술을 결합하면, 바벨을 올바르게 잡고 앉아받기 동작을 통해 최적의 리프팅 성능을 발휘할 수 있다.\n",
      "바벨을 잡는 방법과 앉아받기 동작의 올바른 수행을 결합하여 최적의 리프팅 기술을 설명하면 다음과 같다. 바벨을 잡을 때는 팔을 곧게 뻗고, 바벨은 수직으로 유지해야 하며, 몸통과 팔은 곧게 펴고 아래로 받기 동작을 실시해야 한다. 앉아받기 동작에서는 바벨을 치골 또는 조금 높이 올릴 때 하방으로 다리를 강하게 옆으로 딛고, 팔꿈치를 빠르게 앞으로 향하게 하여 가슴 위에 바벨을 빨리 위치시켜야 한다. 발은 빠르게 옆으로 옮겨 새로운 중심축을 만들고, 무릎은 제한된 범위까지 굽혀 대퇴부 후면을 종아리에 닿게 하며, 어깨는 수평을 유지하고 등은 자연스러운 아치형 상태에서 상체를 곧게 유지해야 한다.\n",
      "['document_1', 'document_2', 'document_3', 'document_4', 'document_5']\n"
     ]
    }
   ],
   "source": [
    "tmp_answer = parser.parse(tmp.content).answer\n",
    "tmp_attribution = parser.parse(tmp.content).attribution\n",
    "\n",
    "print(dataset.iloc[0]['user_input'])\n",
    "print(dataset.iloc[0]['reference'])\n",
    "print(tmp_answer)\n",
    "print(tmp_attribution)"
   ]
  },
  {
   "cell_type": "code",
   "execution_count": 45,
   "metadata": {},
   "outputs": [
    {
     "data": {
      "text/plain": [
       "\"document_0: \\n앉아받기란 잡아채기 동작을 실행한 다음 선수의 몸체를 바벨 아래로 밀어 넣으\\n면서 바벨을 받치고 안정된 자세를 취하는 것을 말한다. 앉아받기 동작은 선수가\\n발휘한 힘뿐만 아니라 선수와 바벨사이의 능동적 상호작용에 의해서 시작된다. 이\\n동작에서 바벨의 움직임은 수직 상승한 다음 아래로 쳐진 올가미 형태를 보인다. 이 동작은 매우 빠르게 실시해야 하는데 그 이유는 팔을 뻗어 바를 바치는 동작을\\n이루기까지 바벨이 몸의 중심과 많이 떨어져 있어 매우 불안한 상태이기 때문이다. 바를 바치는 안정된 동작으로 이동하기 위해서는 앉아받기 시 바벨을 최대한 높이 올려 몸체를 바벨 아래로 밀어 넣는 시간을\\n충분히 갖는 것이 필요하다. 앉아받기 동작을 효율적으로 수행하기 위\\n해서는 양다리를 벌릴 때 발뒤꿈치 부분을\\n엉덩이 관절 수직 아래에 위치시켜 바벨을\\n들기 위한 수직힘의 분산을 막아야 하며, 발\\n끝은 약 45도 방향으로 벌려 기저면을 넓혀\\n주어야한다.\\n\\ndocument_1: \\n몸통 펴고 잡아채기 동작이 끝나고 바벨이 하지 신전력에 수직상방으로 올라가는\\n단계이며, 매우 빠른 시간에 이루어지기 때문에 지도자들은 이 구간의 중요성을 인\\n식 못할 수 있다. 이때는 폭발적인 하지 신전력에 의해바벨이 위로 던져진 상태이므\\n로 무게를 느낄 수 없어야 잡아채기 동작을 바르게 수행한 것이다. 효과적인 앉아받\\n기 동작을 하기 위해서〈그림 54〉에서 보는 것처럼 바벨이 최고의 정점에서 몸통\\n쪽으로 가깝게 향하도록 팔의 움직임이 중요하며, 지면으로부터 점프를 하면서 하방\\n으로 빠른 앉아 받기를 하는 기술동작이 필요하다. 인상기술 동작에서 잡아채기 후 앉아받기 동작을 효율적으로 수행하지 못하면 실패 확률이 높을 수 있으며, 바벨을\\n앉아받기 동작에서 고정 시키더라도 무게중심이 높아 팔로 바벨을 정지시키기 위하\\n여 과도한 힘을 사용하여 팔꿈치, 어깨, 손목의 상해가 발생할 수 있다.\\n\\ndocument_2: \\n앉아받기 동작은 몸통 완전히 펴고 잡아채기 동작이후 빠른 앉아받기 자세를 하\\n여야 한다. 완전히 앉아 받고 일어서기 전 단계로 동작을 정의하며, 앉아받기 동작\\n의 순서는 다음과 같다. 1) 바벨을 치골 또는 조금 높이 올릴 때, 하방으로 다리를 강하게 옆으로 딛는다. 2) 팔꿈치를 빠르게 앞으로 향하게 하고 가슴위에 바벨을 빨리 위치시킨다. 3) 발은 빠르게 옆으로 옮겨 새로운 중심축을 만든다. 4) 옆으로 옮긴 발의 위치는 정해진 범위를 초과 하지 않도록 한다(범위를 초과하\\n면 무거운 중량을 일어나기가 어려워진다). 5) 무릎은 제한 된 범위까지 굽히며, 대퇴부 후면을 종아리에 닿게 한다. 6) 어깨는 수평을 유지 하고, 등은 자연스런 아치형상태에서 상체를 곧게 유지하는\\n바른 자세가 중요하다.\\n\\ndocument_3: \\n앉아받기(squat snatch)동작은 마무리 기술동작으로 Snatch 기술동작에서 성공\\n과 실패를 결정짓는 중요한 요인이다. 몸통 펴고 잡아채기 동작 후에 상방으로 올\\n라갔던 바벨을 빠른 앉아받기 동작을 통하여 바벨을 빠른 시간 안에 정지시키는\\n기술이 중요하고 신체의 움직임은 최소화 시켜야 한다. 앉아받기 동작은 선수들의 신체특성에 따라 신체관절(손목, 어깨, 무릎, 엉덩이,\\n발목)의 형태도 다양하다. 앉아받기 동작에서 가장 중요한 것은 벌린 양발의 너비,\\n바와 몸통의 적정한 각도, 바벨과 신체의 균형을 유지할 수 있는 근력이 필요하다. 이미지에는 역도 선수가 바벨을 들어 올리는 일련의 동작이 순서대로 나타나 있다. 선수는 빨간색 유니폼을 입고 있으며, 바벨을 머리 위로 들어 올린 후 안정적으로 고정시키는 모습을 보여준다.\\n\\ndocument_4: \\n마지막 잡아채기 이후 앉아받기 구간은 1-4국면의 동작 실행이 결실을 맺는 구\\n간이라고 할 수 있다. 역도는 다른 구간에서 아무리 좋은 기술적 동작 수행을 잘\\n하더라도 마지막 받는 동작의 오류가 발생하면 실패로 이어지기 때문에 마무리 동\\n작 수행 또한 매우 중요한 복합적 기술이 필요한 구간이다. 1-4구간은 바벨을 지면에서 들어 올리는 동작을 수행하지만 마지막 4국면은 올\\n라간 바벨이 아래로 내려오는 구간이므로 단시간 내에 바벨을 안정하게 받을 수\\n있는 동체의 공간적 활용이 매우 중요하다. 앉아받기에서 중요한 기술요인으로 일어설 때 상체와 머리는 처음자세를 유지하 도록 하고, 하지근력을 이용하여 바벨을 들고 있는 어깨와 팔은 움직임이 없이 일\\n어서기를 할 수 있도록 선수에게 지도해야 한다.\\n\\ndocument_5: \\n선수들은 바벨을 머리 위로 들어 올린 상태에서 두 발을 앞뒤로 벌리고 균형을 잡고 있다. 각 선수는 바벨을 수직으로 유지하며 팔을 곧게 뻗고 있다. 배경에는 'KB 국민은행', 'HYUNDAI', '농협', 'asics' 등의 로고가 보인다. Jerk Up- Jerk 고정하기 전 단계로 정의하며, Jerk Split 자세의 올바른 동작 순\\n서는 다음과 같다. 1) 바벨을 폭발적으로 위로 올린 후 몸통과 팔은 곧게 뻗으며 아래로 받기 동작을\\n실시한다. 2) 바벨은 수직방향으로 머리는 너무 뒤로 넘어가지 않도록 적절한 자세를 유지\\n한다. 3) 두 발은 앞뒤로 지면을 향하여 빠르게 착지 시킨다\\n4) 착지한 두 다리는 움직임을 최소화 할 수 있도록 균형을 유지한다. 5) 팔은 몸통을 기준으로 평행하게 하고 바벨을 최대한 빠르게 받기 동작을 한다. 6) 앞뒤로 벌린 두 다리의 너비는 1：2정도가 이상적이며, 앞다리는 90도 내외를\\n유지한다. 7) 정지시킨 바벨은 움직임을 최소화 할 수 있도록 근육의 긴장과 균형을 유지한다.\\n\\ndocument_6: \\n순간적으로 무거운 물체를 들어 올리는 데에는 근력 외에도 강인한 정신력이 요구\\n된다. 역도에서 가장 중요한 정신적 자질은 주의력 집중, 인내심, 정서적 안정이다, 주의력이라 함은 심리 정신적 활동의 집중과 어떤 순간 인간에게서 중요한 것에 대한 정신 활동의 지향을 말한다. 역도선수는 경기나 훈련을 할 때 전통적 리프팅\\n(Snatch, Clean and Jerk)의 경우 내부 언어로 다음과 같은 사항들을 반복 할 것이\\n다. Snatch에서 올바른 시작자세, 2단계에서 강하고 빠른 몸통 신전, 바벨 아래로\\n빠른 앉아 받기, 일어서기 Clean and Jerk에서 올바른 시작자세, 2단계에서 강하\\n고 빠른 몸통 신전, 바벨 아래로 빠른 앉아 받기와 일어서기, 양 다리를 벌려 바벨\\n빨리 받기, 다리모아 바벨 고정 시킨 후 내리기 등이 경기나 반복훈련 속에서 동작\\n의 주요 구성요소의 내부 언어를 2-3회 상상한다.\\n\\ndocument_7: \\n역도경기의 기술이라 함은, 경기자가 극한의 중량을 가진 바벨을 들어올리기 위\\n하여 그 육체적 성능을 합리적으로, 또 완전히 이용할 수 있는 모든 방법을 종합한\\n것을 말한다. 역도선수의 기량은 육체적, 정신적, 기술적, 이론적, 전략적 준비에 따라 달라진\\n다. 효과적인 기술이란 이들 모든 요소의 총체적 결합을 의미한다. 전통적 리프팅(snatch, clean and jerk)기술의 기본원칙은 최소한의 힘으로 최대\\n중량을 들어 올리는 것이다. 이는 나이, 스포츠 연구단계, 기술 장비, 선수의 훈련\\n지식 뿐 아니라 신체적 준비상태, 개인의 신체적 특성, 기술력에 의해서도 영향을\\n받는다. 역도를 처음 시작하는 초보자를 위해서는 역도 기본기술에 대한 이론적 지식과\\n기본자세를 알아야 한다.\\n\\ndocument_8: \\n이 표는 'Forward Lunge' 운동의 단계별 이미지와 설명을 제공하는 훈련 가이드로, 하체 근력 강화에 중점을 두고 있다. 표의 구조는 운동의 전면 이미지를 통해 각 단계의 자세를 시각적으로 보여주며, 동작 설명을 통해 운동 수행 방법을 구체적으로 안내한다. 특히, 바벨을 잡는 방법과 자세에 대한 세부적인 설명이 포함되어 있어, 운동 수행 시 올바른 자세를 유지하는 데 도움을 준다. 이 운동의 주요 목적은 대둔근, 햄스트링, 대퇴사두근, 장요근, 가자미근, 비복근을 강화하는 것이다. 이 표는 하체 강화 훈련의 일환으로 'Step Up' 운동을 설명하는 구조로 되어 있습니다. '전면' 섹션에서는 운동의 시각적 예시를 제공하며, 각 이미지에서는 한쪽 무릎을 플랫폼에 올리고 바벨을 드는 동작을 보여줍니다. '동작설명' 섹션에서는 바벨을 목 뒤에 견고히 고정하고, 박스 위로 올라서며 무릎 각도를 90도로 유지하는 방법을 설명합니다. '목적' 섹션에서는 이 운동이 대둔근, 대퇴사두근, 햄스트링을 강화하는 데 목적이 있음을 명시하고 있습니다.\""
      ]
     },
     "execution_count": 45,
     "metadata": {},
     "output_type": "execute_result"
    }
   ],
   "source": [
    "dataset.iloc[0]['rerank_contexts']"
   ]
  },
  {
   "cell_type": "code",
   "execution_count": 35,
   "metadata": {},
   "outputs": [
    {
     "data": {
      "text/plain": [
       "['앉아받기란 잡아채기 동작을 실행한 다음 선수의 몸체를 바벨 아래로 밀어 넣으\\n면서 바벨을 받치고 안정된 자세를 취하는 것을 말한다. 앉아받기 동작은 선수가\\n발휘한 힘뿐만 아니라 선수와 바벨사이의 능동적 상호작용에 의해서 시작된다. 이\\n동작에서 바벨의 움직임은 수직 상승한 다음 아래로 쳐진 올가미 형태를 보인다. 이 동작은 매우 빠르게 실시해야 하는데 그 이유는 팔을 뻗어 바를 바치는 동작을\\n이루기까지 바벨이 몸의 중심과 많이 떨어져 있어 매우 불안한 상태이기 때문이다. 바를 바치는 안정된 동작으로 이동하기 위해서는 앉아받기 시 바벨을 최대한 높이 올려 몸체를 바벨 아래로 밀어 넣는 시간을\\n충분히 갖는 것이 필요하다. 앉아받기 동작을 효율적으로 수행하기 위\\n해서는 양다리를 벌릴 때 발뒤꿈치 부분을\\n엉덩이 관절 수직 아래에 위치시켜 바벨을\\n들기 위한 수직힘의 분산을 막아야 하며, 발\\n끝은 약 45도 방향으로 벌려 기저면을 넓혀\\n주어야한다.',\n",
       " '몸통 펴고 잡아채기 동작이 끝나고 바벨이 하지 신전력에 수직상방으로 올라가는\\n단계이며, 매우 빠른 시간에 이루어지기 때문에 지도자들은 이 구간의 중요성을 인\\n식 못할 수 있다. 이때는 폭발적인 하지 신전력에 의해바벨이 위로 던져진 상태이므\\n로 무게를 느낄 수 없어야 잡아채기 동작을 바르게 수행한 것이다. 효과적인 앉아받\\n기 동작을 하기 위해서〈그림 54〉에서 보는 것처럼 바벨이 최고의 정점에서 몸통\\n쪽으로 가깝게 향하도록 팔의 움직임이 중요하며, 지면으로부터 점프를 하면서 하방\\n으로 빠른 앉아 받기를 하는 기술동작이 필요하다. 인상기술 동작에서 잡아채기 후 앉아받기 동작을 효율적으로 수행하지 못하면 실패 확률이 높을 수 있으며, 바벨을\\n앉아받기 동작에서 고정 시키더라도 무게중심이 높아 팔로 바벨을 정지시키기 위하\\n여 과도한 힘을 사용하여 팔꿈치, 어깨, 손목의 상해가 발생할 수 있다.',\n",
       " '앉아받기 동작은 몸통 완전히 펴고 잡아채기 동작이후 빠른 앉아받기 자세를 하\\n여야 한다. 완전히 앉아 받고 일어서기 전 단계로 동작을 정의하며, 앉아받기 동작\\n의 순서는 다음과 같다. 1) 바벨을 치골 또는 조금 높이 올릴 때, 하방으로 다리를 강하게 옆으로 딛는다. 2) 팔꿈치를 빠르게 앞으로 향하게 하고 가슴위에 바벨을 빨리 위치시킨다. 3) 발은 빠르게 옆으로 옮겨 새로운 중심축을 만든다. 4) 옆으로 옮긴 발의 위치는 정해진 범위를 초과 하지 않도록 한다(범위를 초과하\\n면 무거운 중량을 일어나기가 어려워진다). 5) 무릎은 제한 된 범위까지 굽히며, 대퇴부 후면을 종아리에 닿게 한다. 6) 어깨는 수평을 유지 하고, 등은 자연스런 아치형상태에서 상체를 곧게 유지하는\\n바른 자세가 중요하다.',\n",
       " '앉아받기(squat snatch)동작은 마무리 기술동작으로 Snatch 기술동작에서 성공\\n과 실패를 결정짓는 중요한 요인이다. 몸통 펴고 잡아채기 동작 후에 상방으로 올\\n라갔던 바벨을 빠른 앉아받기 동작을 통하여 바벨을 빠른 시간 안에 정지시키는\\n기술이 중요하고 신체의 움직임은 최소화 시켜야 한다. 앉아받기 동작은 선수들의 신체특성에 따라 신체관절(손목, 어깨, 무릎, 엉덩이,\\n발목)의 형태도 다양하다. 앉아받기 동작에서 가장 중요한 것은 벌린 양발의 너비,\\n바와 몸통의 적정한 각도, 바벨과 신체의 균형을 유지할 수 있는 근력이 필요하다. 이미지에는 역도 선수가 바벨을 들어 올리는 일련의 동작이 순서대로 나타나 있다. 선수는 빨간색 유니폼을 입고 있으며, 바벨을 머리 위로 들어 올린 후 안정적으로 고정시키는 모습을 보여준다.',\n",
       " '마지막 잡아채기 이후 앉아받기 구간은 1-4국면의 동작 실행이 결실을 맺는 구\\n간이라고 할 수 있다. 역도는 다른 구간에서 아무리 좋은 기술적 동작 수행을 잘\\n하더라도 마지막 받는 동작의 오류가 발생하면 실패로 이어지기 때문에 마무리 동\\n작 수행 또한 매우 중요한 복합적 기술이 필요한 구간이다. 1-4구간은 바벨을 지면에서 들어 올리는 동작을 수행하지만 마지막 4국면은 올\\n라간 바벨이 아래로 내려오는 구간이므로 단시간 내에 바벨을 안정하게 받을 수\\n있는 동체의 공간적 활용이 매우 중요하다. 앉아받기에서 중요한 기술요인으로 일어설 때 상체와 머리는 처음자세를 유지하 도록 하고, 하지근력을 이용하여 바벨을 들고 있는 어깨와 팔은 움직임이 없이 일\\n어서기를 할 수 있도록 선수에게 지도해야 한다.',\n",
       " \"선수들은 바벨을 머리 위로 들어 올린 상태에서 두 발을 앞뒤로 벌리고 균형을 잡고 있다. 각 선수는 바벨을 수직으로 유지하며 팔을 곧게 뻗고 있다. 배경에는 'KB 국민은행', 'HYUNDAI', '농협', 'asics' 등의 로고가 보인다. Jerk Up- Jerk 고정하기 전 단계로 정의하며, Jerk Split 자세의 올바른 동작 순\\n서는 다음과 같다. 1) 바벨을 폭발적으로 위로 올린 후 몸통과 팔은 곧게 뻗으며 아래로 받기 동작을\\n실시한다. 2) 바벨은 수직방향으로 머리는 너무 뒤로 넘어가지 않도록 적절한 자세를 유지\\n한다. 3) 두 발은 앞뒤로 지면을 향하여 빠르게 착지 시킨다\\n4) 착지한 두 다리는 움직임을 최소화 할 수 있도록 균형을 유지한다. 5) 팔은 몸통을 기준으로 평행하게 하고 바벨을 최대한 빠르게 받기 동작을 한다. 6) 앞뒤로 벌린 두 다리의 너비는 1：2정도가 이상적이며, 앞다리는 90도 내외를\\n유지한다. 7) 정지시킨 바벨은 움직임을 최소화 할 수 있도록 근육의 긴장과 균형을 유지한다.\",\n",
       " '순간적으로 무거운 물체를 들어 올리는 데에는 근력 외에도 강인한 정신력이 요구\\n된다. 역도에서 가장 중요한 정신적 자질은 주의력 집중, 인내심, 정서적 안정이다, 주의력이라 함은 심리 정신적 활동의 집중과 어떤 순간 인간에게서 중요한 것에 대한 정신 활동의 지향을 말한다. 역도선수는 경기나 훈련을 할 때 전통적 리프팅\\n(Snatch, Clean and Jerk)의 경우 내부 언어로 다음과 같은 사항들을 반복 할 것이\\n다. Snatch에서 올바른 시작자세, 2단계에서 강하고 빠른 몸통 신전, 바벨 아래로\\n빠른 앉아 받기, 일어서기 Clean and Jerk에서 올바른 시작자세, 2단계에서 강하\\n고 빠른 몸통 신전, 바벨 아래로 빠른 앉아 받기와 일어서기, 양 다리를 벌려 바벨\\n빨리 받기, 다리모아 바벨 고정 시킨 후 내리기 등이 경기나 반복훈련 속에서 동작\\n의 주요 구성요소의 내부 언어를 2-3회 상상한다.',\n",
       " '역도경기의 기술이라 함은, 경기자가 극한의 중량을 가진 바벨을 들어올리기 위\\n하여 그 육체적 성능을 합리적으로, 또 완전히 이용할 수 있는 모든 방법을 종합한\\n것을 말한다. 역도선수의 기량은 육체적, 정신적, 기술적, 이론적, 전략적 준비에 따라 달라진\\n다. 효과적인 기술이란 이들 모든 요소의 총체적 결합을 의미한다. 전통적 리프팅(snatch, clean and jerk)기술의 기본원칙은 최소한의 힘으로 최대\\n중량을 들어 올리는 것이다. 이는 나이, 스포츠 연구단계, 기술 장비, 선수의 훈련\\n지식 뿐 아니라 신체적 준비상태, 개인의 신체적 특성, 기술력에 의해서도 영향을\\n받는다. 역도를 처음 시작하는 초보자를 위해서는 역도 기본기술에 대한 이론적 지식과\\n기본자세를 알아야 한다.',\n",
       " \"이 표는 'Forward Lunge' 운동의 단계별 이미지와 설명을 제공하는 훈련 가이드로, 하체 근력 강화에 중점을 두고 있다. 표의 구조는 운동의 전면 이미지를 통해 각 단계의 자세를 시각적으로 보여주며, 동작 설명을 통해 운동 수행 방법을 구체적으로 안내한다. 특히, 바벨을 잡는 방법과 자세에 대한 세부적인 설명이 포함되어 있어, 운동 수행 시 올바른 자세를 유지하는 데 도움을 준다. 이 운동의 주요 목적은 대둔근, 햄스트링, 대퇴사두근, 장요근, 가자미근, 비복근을 강화하는 것이다. 이 표는 하체 강화 훈련의 일환으로 'Step Up' 운동을 설명하는 구조로 되어 있습니다. '전면' 섹션에서는 운동의 시각적 예시를 제공하며, 각 이미지에서는 한쪽 무릎을 플랫폼에 올리고 바벨을 드는 동작을 보여줍니다. '동작설명' 섹션에서는 바벨을 목 뒤에 견고히 고정하고, 박스 위로 올라서며 무릎 각도를 90도로 유지하는 방법을 설명합니다. '목적' 섹션에서는 이 운동이 대둔근, 대퇴사두근, 햄스트링을 강화하는 데 목적이 있음을 명시하고 있습니다.\"]"
      ]
     },
     "execution_count": 35,
     "metadata": {},
     "output_type": "execute_result"
    }
   ],
   "source": [
    "dataset.iloc[0]['cohere_contexts'][:9]"
   ]
  },
  {
   "cell_type": "code",
   "execution_count": 53,
   "metadata": {},
   "outputs": [
    {
     "name": "stderr",
     "output_type": "stream",
     "text": [
      "Evaluating: 100%|██████████| 2/2 [00:25<00:00, 12.85s/it]\n"
     ]
    }
   ],
   "source": [
    "from datasets import Dataset\n",
    "from ragas.metrics import faithfulness, context_precision\n",
    "from ragas import evaluate\n",
    "\n",
    "data_samples = {\n",
    "    'question': [dataset.iloc[55]['user_input']],\n",
    "    'answer': [dataset.iloc[55]['reference']],\n",
    "    'contexts': [dataset.iloc[55]['cohere_contexts'][:9]],\n",
    "    'reference': [dataset.iloc[55]['reference']]\n",
    "}\n",
    "\n",
    "tmp_dataset = Dataset.from_dict(data_samples)\n",
    "score = evaluate(tmp_dataset, metrics=[faithfulness, context_precision])"
   ]
  },
  {
   "cell_type": "code",
   "execution_count": 44,
   "metadata": {},
   "outputs": [
    {
     "data": {
      "text/html": [
       "<div>\n",
       "<style scoped>\n",
       "    .dataframe tbody tr th:only-of-type {\n",
       "        vertical-align: middle;\n",
       "    }\n",
       "\n",
       "    .dataframe tbody tr th {\n",
       "        vertical-align: top;\n",
       "    }\n",
       "\n",
       "    .dataframe thead th {\n",
       "        text-align: right;\n",
       "    }\n",
       "</style>\n",
       "<table border=\"1\" class=\"dataframe\">\n",
       "  <thead>\n",
       "    <tr style=\"text-align: right;\">\n",
       "      <th></th>\n",
       "      <th>user_input</th>\n",
       "      <th>retrieved_contexts</th>\n",
       "      <th>response</th>\n",
       "      <th>reference</th>\n",
       "      <th>faithfulness</th>\n",
       "      <th>context_precision</th>\n",
       "    </tr>\n",
       "  </thead>\n",
       "  <tbody>\n",
       "    <tr>\n",
       "      <th>0</th>\n",
       "      <td>바벨 잡는 방법과 앉아받기 동작의 올바른 수행을 결합하여 최적의 리프팅 기술을 설명해줘.</td>\n",
       "      <td>[앉아받기란 잡아채기 동작을 실행한 다음 선수의 몸체를 바벨 아래로 밀어 넣으\\n면...</td>\n",
       "      <td>바벨 잡는 방법에는 오버그립, 언더그립, 리버스그립, 훅그립이 있으며, 각각의 그립...</td>\n",
       "      <td>바벨 잡는 방법에는 오버그립, 언더그립, 리버스그립, 훅그립이 있으며, 각각의 그립...</td>\n",
       "      <td>0.333333</td>\n",
       "      <td>0.952629</td>\n",
       "    </tr>\n",
       "  </tbody>\n",
       "</table>\n",
       "</div>"
      ],
      "text/plain": [
       "                                          user_input  \\\n",
       "0  바벨 잡는 방법과 앉아받기 동작의 올바른 수행을 결합하여 최적의 리프팅 기술을 설명해줘.   \n",
       "\n",
       "                                  retrieved_contexts  \\\n",
       "0  [앉아받기란 잡아채기 동작을 실행한 다음 선수의 몸체를 바벨 아래로 밀어 넣으\\n면...   \n",
       "\n",
       "                                            response  \\\n",
       "0  바벨 잡는 방법에는 오버그립, 언더그립, 리버스그립, 훅그립이 있으며, 각각의 그립...   \n",
       "\n",
       "                                           reference  faithfulness  \\\n",
       "0  바벨 잡는 방법에는 오버그립, 언더그립, 리버스그립, 훅그립이 있으며, 각각의 그립...      0.333333   \n",
       "\n",
       "   context_precision  \n",
       "0           0.952629  "
      ]
     },
     "execution_count": 44,
     "metadata": {},
     "output_type": "execute_result"
    }
   ],
   "source": [
    "score.to_pandas()"
   ]
  },
  {
   "cell_type": "code",
   "execution_count": null,
   "metadata": {},
   "outputs": [],
   "source": []
  },
  {
   "cell_type": "code",
   "execution_count": null,
   "metadata": {},
   "outputs": [],
   "source": []
  },
  {
   "cell_type": "code",
   "execution_count": 64,
   "metadata": {},
   "outputs": [
    {
     "data": {
      "text/plain": [
       "list"
      ]
     },
     "execution_count": 64,
     "metadata": {},
     "output_type": "execute_result"
    }
   ],
   "source": [
    "type(dataset.iloc[0]['cohere_contexts'][:9])"
   ]
  },
  {
   "cell_type": "code",
   "execution_count": null,
   "metadata": {},
   "outputs": [],
   "source": []
  },
  {
   "cell_type": "code",
   "execution_count": null,
   "metadata": {},
   "outputs": [],
   "source": []
  },
  {
   "cell_type": "code",
   "execution_count": null,
   "metadata": {},
   "outputs": [],
   "source": []
  }
 ],
 "metadata": {
  "kernelspec": {
   "display_name": "SportAgent",
   "language": "python",
   "name": "python3"
  },
  "language_info": {
   "codemirror_mode": {
    "name": "ipython",
    "version": 3
   },
   "file_extension": ".py",
   "mimetype": "text/x-python",
   "name": "python",
   "nbconvert_exporter": "python",
   "pygments_lexer": "ipython3",
   "version": "3.12.9"
  }
 },
 "nbformat": 4,
 "nbformat_minor": 2
}
