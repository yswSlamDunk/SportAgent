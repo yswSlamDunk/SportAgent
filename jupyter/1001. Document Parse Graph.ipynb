{
 "cells": [
  {
   "cell_type": "code",
   "execution_count": 1,
   "metadata": {},
   "outputs": [],
   "source": [
    "import json\n",
    "from pprint import pprint"
   ]
  },
  {
   "cell_type": "code",
   "execution_count": 2,
   "metadata": {},
   "outputs": [],
   "source": [
    "file_path = '../data/document/역도/역도 훈련프로그램 구성 및 지도안_edited.json'\n",
    "file_name = file_path.split('/')[-1]\n",
    "\n",
    "with open(file_path, 'r', encoding='utf-8') as f:\n",
    "    data = json.load(f)\n",
    "    data = data['edited']['elements']"
   ]
  },
  {
   "cell_type": "code",
   "execution_count": 3,
   "metadata": {},
   "outputs": [],
   "source": [
    "from typing import TypedDict, Annotated, List, Dict, Tuple\n",
    "\n",
    "class GraphState(TypedDict):\n",
    "    filepath: Annotated[str, 'filepath']\n",
    "    filepath_pdf: Annotated[str, 'pdf filepath']\n",
    "    originData: Annotated[List[Dict], 'originData']\n",
    "    documents: Annotated[List[Dict], 'documents']\n",
    "    heading_structure: Annotated[List[str], 'heading structure. last heading is borderline']\n",
    "    unused_elements: Annotated[List[Tuple[str, str]], 'unused elements']\n",
    "    image_result: Annotated[List[Dict], 'result of image information extractor ']\n",
    "    chart_result: Annotated[List[Dict], 'result of chart information extractor ']\n",
    "    table_result: Annotated[List[Dict], 'result of table information extractor ']"
   ]
  },
  {
   "cell_type": "code",
   "execution_count": 4,
   "metadata": {},
   "outputs": [],
   "source": [
    "state = GraphState(\n",
    "    filepath = \"../data/document/역도/역도 훈련프로그램 구성 및 지도안_edited.json\",\n",
    "    filepath_pdf = \"../data/document/역도/역도 훈련프로그램 구성 및 지도안.pdf\",\n",
    "    originData = data,\n",
    "    documents = data,\n",
    "    heading_structure = ['heading1', 'heading2', 'heading3', 'heading4', 'heading5', 'default'],\n",
    "    unused_elements = [('footer', 'default')]\n",
    ")"
   ]
  },
  {
   "cell_type": "code",
   "execution_count": 5,
   "metadata": {},
   "outputs": [],
   "source": [
    "def organize_relation(state: GraphState) -> Dict:\n",
    "    '''\n",
    "    relatedID가 [] 요소를 정렬하는 함수로, 두가지로 분류되며, \n",
    "    1. category가 caption인 경우\n",
    "        - relatedID element에 {caption: 요소의 text} 형식으로 추가\n",
    "        - 추가된 요소는 제거\n",
    "    2. category가 caption이 아닌 경우\n",
    "        - relatedID element의 바로 뒤에 요소를 복사\n",
    "        - 복사된 요소는 제거\n",
    "    '''           \n",
    "            \n",
    "    organized_data = []\n",
    "    relations = []\n",
    "    for element in state['documents']:\n",
    "        if element['relatedID'] != []:\n",
    "            relations.append(element)\n",
    "        else:\n",
    "            organized_data.append(element)\n",
    "    \n",
    "    for relation in relations:\n",
    "        for related_id in relation['relatedID']:\n",
    "            related_element_index = next((i for i, elem in enumerate(organized_data) if elem['id'] == related_id), None)\n",
    "            if related_element_index is None:\n",
    "                continue\n",
    "            if relation['category'] == 'caption':\n",
    "                organized_data[related_element_index]['caption'] = relation['text']\n",
    "            else:\n",
    "                organized_data.insert(related_element_index + 1, relation)\n",
    "    return {'documents': organized_data}"
   ]
  },
  {
   "cell_type": "code",
   "execution_count": 6,
   "metadata": {},
   "outputs": [],
   "source": [
    "def remove_unused_category(state: GraphState) -> Dict:\n",
    "    '''\n",
    "    state['unused_elements']에 있는 요소를 제거하는 함수.\n",
    "    '''\n",
    "    origin = state['documents'].copy()\n",
    "    for element in origin:\n",
    "        if (element['category'], element['class']) in state['unused_elements']:\n",
    "            origin.remove(element)\n",
    "    return {'documents': origin}\n"
   ]
  },
  {
   "cell_type": "code",
   "execution_count": 7,
   "metadata": {},
   "outputs": [],
   "source": [
    "def document_extract(state: GraphState) -> Dict:\n",
    "    \"\"\"문서를 heading을 기준으로 chunking하는 함수\n",
    "    \n",
    "    Returns:\n",
    "        Dict: {'documents': List[Dict]} 형태로 반환\n",
    "        각 document는 다음 구조를 가짐:\n",
    "        {\n",
    "            'meta': {\n",
    "                'heading': Dict,  # 현재 문서의 heading 상태\n",
    "                'index': int     # chunk의 순서\n",
    "            },\n",
    "            'content': List[Dict]  # chunk에 포함된 elements\n",
    "        }\n",
    "    \"\"\"\n",
    "    elements = state['documents']\n",
    "    current_heading = {heading: None for heading in state['heading_structure']}\n",
    "    \n",
    "    chunk_index = 0\n",
    "    chunks = []\n",
    "    contents = []\n",
    "\n",
    "    for i, doc in enumerate(elements):\n",
    "        if ('heading' in doc['category']):\n",
    "            if contents != []:\n",
    "                chunks.append({\n",
    "                    'meta': {\n",
    "                        'filepath': state['filepath'],\n",
    "                        'heading': current_heading.copy(),\n",
    "                        'index': chunk_index\n",
    "                    },\n",
    "                    'content': contents\n",
    "                })\n",
    "                contents = []\n",
    "                chunk_index += 1\n",
    "                \n",
    "            current_heading[doc['class']] = doc['text']\n",
    "            for heading in state['heading_structure'][state['heading_structure'].index(doc['class']) + 1:]:\n",
    "                current_heading[heading] = None\n",
    "        else:\n",
    "            contents.append(doc)\n",
    "    \n",
    "    if contents != []:\n",
    "        chunks.append({\n",
    "            'meta': {\n",
    "                'filepath': state['filepath'],\n",
    "                'heading': current_heading.copy(),\n",
    "                'index': chunk_index\n",
    "            },\n",
    "            'content': contents\n",
    "        })\n",
    "            \n",
    "    return {'documents': chunks}"
   ]
  },
  {
   "cell_type": "code",
   "execution_count": 18,
   "metadata": {},
   "outputs": [],
   "source": [
    "from langgraph.graph import StateGraph, END, START\n",
    "\n",
    "workflow = StateGraph(GraphState)\n",
    "\n",
    "workflow.add_node('organize_relation_node', organize_relation)\n",
    "workflow.add_node('remove_unused_category_node', remove_unused_category)\n",
    "workflow.add_node('document_extract_node', document_extract)\n",
    "\n",
    "workflow.add_edge(START, 'organize_relation_node')\n",
    "workflow.add_edge('organize_relation_node', 'remove_unused_category_node')\n",
    "workflow.add_edge('remove_unused_category_node', 'document_extract_node')\n",
    "workflow.add_edge('document_extract_node', END)\n",
    "\n",
    "graph = workflow.compile()"
   ]
  },
  {
   "cell_type": "code",
   "execution_count": 19,
   "metadata": {},
   "outputs": [],
   "source": [
    "from langchain_core.runnables import RunnableConfig\n",
    "\n",
    "config = RunnableConfig(\n",
    "    recursion_limit=5, \n",
    "    configurable={\"thread_id\": \"Graph-Parser\"}\n",
    ")\n",
    "\n",
    "# output = graph.stream(state, config=config)\n",
    "\n",
    "state['documents'] = organize_relation(state)['documents']\n",
    "state['documents'] = remove_unused_category(state)['documents']\n",
    "state['documents'] = document_extract(state)['documents']"
   ]
  },
  {
   "cell_type": "code",
   "execution_count": 20,
   "metadata": {},
   "outputs": [
    {
     "data": {
      "text/plain": [
       "{'filepath': '../data/document/역도/역도 훈련프로그램 구성 및 지도안_edited.json',\n",
       " 'heading': {'heading1': 'Ⅴ.역도 훈련프로그램 구성 및 지도안',\n",
       "  'heading2': '1. 훈련프로그램의 구성 원리',\n",
       "  'heading3': '나. 훈련량의 설정 및 훈련프로그램의 실례',\n",
       "  'heading4': '2) 운동강도(intensity：바의 평균중량)',\n",
       "  'heading5': None,\n",
       "  'default': None},\n",
       " 'index': 8}"
      ]
     },
     "execution_count": 20,
     "metadata": {},
     "output_type": "execute_result"
    }
   ],
   "source": [
    "state[\"documents\"][8]['meta']"
   ]
  },
  {
   "cell_type": "code",
   "execution_count": 21,
   "metadata": {},
   "outputs": [
    {
     "data": {
      "text/plain": [
       "[{'category': 'paragraph',\n",
       "  'coordinates': [{'x': 0.1242, 'y': 0.6147},\n",
       "   {'x': 0.8781, 'y': 0.6147},\n",
       "   {'x': 0.8781, 'y': 0.6948},\n",
       "   {'x': 0.1242, 'y': 0.6948}],\n",
       "  'id': 80,\n",
       "  'page': 9,\n",
       "  'relatedID': [],\n",
       "  'class': 'default',\n",
       "  'text': '초급자는 일주일에 3번 훈련하는 것이 바람직하며, 기록의 향상보다는 기술의 완\\n성에 중점을 두어야 하며, 자발적으로 훈련에 참여 할 수 있도록 동기유발을 시키\\n는 것이 매우 중요하다.'},\n",
       " {'category': 'table',\n",
       "  'coordinates': [{'x': 0.128, 'y': 0.7299},\n",
       "   {'x': 0.8757, 'y': 0.7299},\n",
       "   {'x': 0.8757, 'y': 0.8806},\n",
       "   {'x': 0.128, 'y': 0.8806}],\n",
       "  'id': 82,\n",
       "  'page': 9,\n",
       "  'relatedID': [],\n",
       "  'class': 'default',\n",
       "  'text': '1일 세트×반복 2일 세트×반복 3일 세트×반복\\n Warm-up  Warm-up  Warm-up \\n Power Clean 5×5 Power Snatch 5×5 Clean 5×5\\n Snatch 5×5 Jerk Balance 5×5 Press 5×5\\n Balance 5×5 Clean Pull 5×5 Snatch Balance 5×5\\n Snatch Pull 5×5 Front Squat 5×5 High Clean 5×5\\n Back Squat 5×5   Back Squat 5×5',\n",
       "  'caption': '표 62. 초급자의 1단계 훈련계획 예시'}]"
      ]
     },
     "execution_count": 21,
     "metadata": {},
     "output_type": "execute_result"
    }
   ],
   "source": [
    "state[\"documents\"][20]['content']"
   ]
  },
  {
   "cell_type": "code",
   "execution_count": 22,
   "metadata": {},
   "outputs": [],
   "source": [
    "#   import json\n",
    "# state_json = json.dumps(state)\n",
    "\n",
    "# with open('../data/document/역도/documentParseGraph_state.json', 'w', encoding='utf-8') as f:\n",
    "#     f.write(state_json)"
   ]
  },
  {
   "cell_type": "code",
   "execution_count": null,
   "metadata": {},
   "outputs": [],
   "source": []
  }
 ],
 "metadata": {
  "kernelspec": {
   "display_name": "SportAgent",
   "language": "python",
   "name": "python3"
  },
  "language_info": {
   "codemirror_mode": {
    "name": "ipython",
    "version": 3
   },
   "file_extension": ".py",
   "mimetype": "text/x-python",
   "name": "python",
   "nbconvert_exporter": "python",
   "pygments_lexer": "ipython3",
   "version": "3.9.21"
  }
 },
 "nbformat": 4,
 "nbformat_minor": 2
}
